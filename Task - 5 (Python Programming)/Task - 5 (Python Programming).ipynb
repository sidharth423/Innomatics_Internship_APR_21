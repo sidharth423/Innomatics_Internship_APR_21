{
 "cells": [
  {
   "cell_type": "code",
   "execution_count": 40,
   "metadata": {},
   "outputs": [
    {
     "name": "stdout",
     "output_type": "stream",
     "text": [
      "4\n",
      "1.05\n",
      "True\n",
      "-.56\n",
      "True\n",
      "+-2.4\n",
      "False\n",
      "-5.2a5\n",
      "False\n"
     ]
    }
   ],
   "source": [
    "# Question 1 : Detect Floating Point Number\n",
    "\n",
    "T = int(input())\n",
    "while T>0:\n",
    "    s = input()\n",
    "    number = s.split('.')\n",
    "    flag = 0\n",
    "\n",
    "    for i in range(1, len(s)):\n",
    "        if s[i] == '+' or s[i] == '-':\n",
    "            print('False')\n",
    "            flag = 1\n",
    "            break\n",
    "    if flag == 0:\n",
    "        if len(number) == 2:\n",
    "            if len(number[1]) == 0:\n",
    "                print('False')\n",
    "            elif any(i.isalpha() for i in s):\n",
    "                print('False')\n",
    "            else:\n",
    "                print('True')\n",
    "        else:\n",
    "            print('False')\n",
    "    T-=1"
   ]
  },
  {
   "cell_type": "code",
   "execution_count": 47,
   "metadata": {},
   "outputs": [
    {
     "name": "stdout",
     "output_type": "stream",
     "text": [
      "12.34,2,42.48,15.6\n",
      "12\n",
      "34\n",
      "2\n",
      "42\n",
      "48\n",
      "15\n",
      "6\n"
     ]
    }
   ],
   "source": [
    "# Question 2 : Re.split().\n",
    "\n",
    "import re\n",
    "s = input()\n",
    "y = re.split(\"[.,]\", s)\n",
    "for i in y:\n",
    "    print(i)"
   ]
  },
  {
   "cell_type": "code",
   "execution_count": 3,
   "metadata": {},
   "outputs": [
    {
     "name": "stdout",
     "output_type": "stream",
     "text": [
      "1245788965\n",
      "8\n"
     ]
    }
   ],
   "source": [
    "# Question 3 : Group(), Groups(), Groupdict()\n",
    "\n",
    "import re\n",
    "case = re.search(r'([a-zA-Z0-9])\\1+', input())\n",
    "print(case.group(1) if case else -1)"
   ]
  },
  {
   "cell_type": "code",
   "execution_count": 18,
   "metadata": {},
   "outputs": [
    {
     "name": "stdout",
     "output_type": "stream",
     "text": [
      "abaabaabaabaae\n",
      "aa\n",
      "aa\n",
      "aa\n"
     ]
    }
   ],
   "source": [
    "# Question 4 : Re.findall() & Re.finditer()\n",
    "\n",
    "s = input()\n",
    "v = 'aeiouAEIOU'\n",
    "c = 'bcdfghjklmnpqrstvwxyzBCDFGHJKLMNPQRSTVWXYZ'\n",
    "flag = 0\n",
    "for i in range(0, len(s)-1):\n",
    "    if s[i] in c:\n",
    "        j = i\n",
    "        count = 0\n",
    "        for j in range(i+1, len(s)):\n",
    "            if s[j] in v:\n",
    "                count+=1\n",
    "            else:\n",
    "                break\n",
    "        if count>=2 and s[j] in c:\n",
    "            print(s[i+1:j])\n",
    "            flag = 1\n",
    "    else:\n",
    "        pass\n",
    "if flag == 0:\n",
    "    print(-1)"
   ]
  },
  {
   "cell_type": "code",
   "execution_count": 36,
   "metadata": {},
   "outputs": [
    {
     "name": "stdout",
     "output_type": "stream",
     "text": [
      "hellosidhiisidbyysiddd\n",
      "sid\n",
      "(5, 7)\n",
      "(11, 13)\n",
      "(17, 19)\n"
     ]
    }
   ],
   "source": [
    "# Question 5 : Re.start() & Re.end()\n",
    "\n",
    "s = input()\n",
    "sub = input()\n",
    "flag = 0\n",
    "for i in range(0, len(s)-len(sub)+1):\n",
    "    if s[i:i+len(sub)] == sub:\n",
    "        print(f'({i}, {i+len(sub)-1})')\n",
    "        flag = 1\n",
    "    else:\n",
    "        pass\n",
    "if flag == 0:\n",
    "    print('(-1, -1)')"
   ]
  },
  {
   "cell_type": "code",
   "execution_count": 18,
   "metadata": {},
   "outputs": [
    {
     "name": "stdout",
     "output_type": "stream",
     "text": [
      "3\n",
      "me && you\n",
      "He or she\n",
      "You &&& me\n",
      "me and you\n",
      "He or she\n",
      "You &&& me\n"
     ]
    }
   ],
   "source": [
    "# Question 6 : Regex Substitution.\n",
    "\n",
    "import re\n",
    "print('\\n'.join(re.sub(R'(?<= )(&&|\\|\\|)(?= )', lambda x: 'and' if x.group()=='&&' else 'or', input()) for _ in range(int(input().strip()))))\n"
   ]
  },
  {
   "cell_type": "code",
   "execution_count": 5,
   "metadata": {},
   "outputs": [
    {
     "name": "stdout",
     "output_type": "stream",
     "text": [
      "CDXXI\n",
      "True\n"
     ]
    }
   ],
   "source": [
    "# Question 7 : Validating Roman Numerals.\n",
    "\n",
    "import re\n",
    "\n",
    "thousand = 'M{0,3}'\n",
    "hundred = '(C[MD]|D?C{0,3})'\n",
    "ten = '(X[CL]|L?X{0,3})'\n",
    "digit = '(I[VX]|V?I{0,3})'\n",
    "print (bool(re.match(thousand + hundred+ten+digit +'$', input())))"
   ]
  },
  {
   "cell_type": "code",
   "execution_count": 31,
   "metadata": {},
   "outputs": [
    {
     "name": "stdout",
     "output_type": "stream",
     "text": [
      "2\n",
      "9587456281\n",
      "YES\n",
      "1252478965\n",
      "NO\n"
     ]
    }
   ],
   "source": [
    "# Question 8 : Validating Phone Numbers.\n",
    "\n",
    "def start_with(number):\n",
    "    if 7<=int(number[0])<=9:\n",
    "        return True\n",
    "    return False\n",
    "\n",
    "\n",
    "T = int(input())\n",
    "while T>0:\n",
    "    number = input()\n",
    "    if number.isdigit() and start_with(number) and len(number) == 10:\n",
    "        print('YES')\n",
    "    else:\n",
    "        print('NO')\n",
    "    \n",
    "    T-=1"
   ]
  },
  {
   "cell_type": "code",
   "execution_count": 32,
   "metadata": {},
   "outputs": [
    {
     "name": "stdout",
     "output_type": "stream",
     "text": [
      "2\n",
      "DEXTER <dexter@hotmail.com>\n",
      "DEXTER <dexter@hotmail.com>\n",
      "VIRUS <virus!@variable.:p>\n"
     ]
    }
   ],
   "source": [
    "# Question 9 : Validating and Parsing Email Addresses.\n",
    "\n",
    "import email.utils\n",
    "\n",
    "def is_valid(address):\n",
    "    if ('@' in address) and ('.' in address):\n",
    "        username = address[:address.index('@')]\n",
    "        first = username[0].isalpha()\n",
    "        username = username.replace(\"_\",\"\")\n",
    "        username = username.replace(\"-\",\"\")\n",
    "        username = username.replace(\".\",\"\")\n",
    "        address = address[address.index('@')+1:]\n",
    "        domain = address[:address.index('.')]\n",
    "        extension = address[address.index('.')+1:]\n",
    "        return first and username.isalnum() and domain.isalpha() and extension.isalpha() and len(extension) < 4\n",
    "        \n",
    "    else:\n",
    "        return False\n",
    "\n",
    "n = int(input())\n",
    "for i in range(n):\n",
    "    E_address = input()\n",
    "    if is_valid(email.utils.parseaddr(E_address)[1]):\n",
    "        print(E_address)"
   ]
  },
  {
   "cell_type": "code",
   "execution_count": 8,
   "metadata": {},
   "outputs": [
    {
     "name": "stdout",
     "output_type": "stream",
     "text": [
      "5\n",
      "#BED\n",
      "color: #FfFdF8; background-color:#aef;\n",
      "#FfFdF8\n",
      "#aef\n",
      "background: -webkit-linear-gradient(top, #f9f9f9, #fff);\n",
      "#f9f9f9\n",
      "#fff\n",
      "background-color: #ABC;\n",
      "#ABC\n",
      "border: 2px dashed #fff;\n",
      "#fff\n"
     ]
    }
   ],
   "source": [
    "# Question 10: Hex Color Code.\n",
    "\n",
    "import re\n",
    "\n",
    "if __name__ == \"__main__\":\n",
    "    reg = re.compile(r\"(:|,| +)(#[abcdefABCDEF1234567890]{3}|#[abcdefABCDEF1234567890]{6})\\b\")\n",
    "\n",
    "    n = int(input())\n",
    "    \n",
    "    for i in range(n):\n",
    "        line  = input()\n",
    "        items = reg.findall(line)\n",
    "\n",
    "        if items:\n",
    "            for item in items:    \n",
    "                print( item[1] )"
   ]
  },
  {
   "cell_type": "code",
   "execution_count": 9,
   "metadata": {},
   "outputs": [
    {
     "name": "stdout",
     "output_type": "stream",
     "text": [
      "2\n",
      "<html><head><title>HTML Parser - I</title></head>\n",
      "<body data-modal-target class='1'><h1>HackerRank</h1><br /></body></html>\n",
      "Start : html\n",
      "Start : head\n",
      "Start : title\n",
      "End   : title\n",
      "End   : head\n",
      "Start : body\n",
      "-> data-modal-target > None\n",
      "-> class > 1\n",
      "Start : h1\n",
      "End   : h1\n",
      "Empty : br\n",
      "End   : body\n",
      "End   : html\n"
     ]
    }
   ],
   "source": [
    "# Question 11 : HTML Parser - Part 1\n",
    "\n",
    "from html.parser import HTMLParser\n",
    "class MyHTMLParser(HTMLParser):\n",
    "    def handle_starttag(self, tag, attrs):        \n",
    "        print ('Start :',tag)\n",
    "        for ele in attrs:\n",
    "            print ('->',ele[0],'>',ele[1])\n",
    "            \n",
    "    def handle_endtag(self, tag):\n",
    "        print ('End   :',tag)\n",
    "        \n",
    "    def handle_startendtag(self, tag, attrs):\n",
    "        print ('Empty :',tag)\n",
    "        for ele in attrs:\n",
    "            print ('->',ele[0],'>',ele[1])\n",
    "            \n",
    "MyParser = MyHTMLParser()\n",
    "MyParser.feed(''.join([input().strip() for _ in range(int(input()))]))"
   ]
  },
  {
   "cell_type": "code",
   "execution_count": 10,
   "metadata": {},
   "outputs": [
    {
     "name": "stdout",
     "output_type": "stream",
     "text": [
      "4\n",
      "<!--[if IE 9]>IE9-specific content\n",
      "<![endif]-->\n",
      "<div> Welcome to HackerRank</div>\n",
      "<!--[if IE 9]>IE9-specific content<![endif]-->\n",
      ">>> Multi-line Comment\n",
      "[if IE 9]>IE9-specific content\n",
      "<![endif]\n",
      ">>> Data\n",
      " Welcome to HackerRank\n",
      ">>> Single-line Comment\n",
      "[if IE 9]>IE9-specific content<![endif]\n"
     ]
    }
   ],
   "source": [
    "# Question 12 : HTML Parser - Part 2.\n",
    "\n",
    "from html.parser import HTMLParser\n",
    "class CustomHTMLParser(HTMLParser):\n",
    "    def handle_comment(self, data):\n",
    "        number_of_line = len(data.split('\\n'))\n",
    "        if number_of_line>1:\n",
    "            print('>>> Multi-line Comment')\n",
    "        else:\n",
    "            print('>>> Single-line Comment')\n",
    "        if data.strip():\n",
    "            print(data)\n",
    "\n",
    "    def handle_data(self, data):\n",
    "        if data.strip():\n",
    "            print(\">>> Data\")\n",
    "            print(data)\n",
    "\n",
    "parser = CustomHTMLParser()\n",
    "\n",
    "n = int(input())\n",
    "\n",
    "html_string = ''\n",
    "for i in range(n):\n",
    "    html_string += input().rstrip()+'\\n'\n",
    "    \n",
    "parser.feed(html_string)\n",
    "parser.close()"
   ]
  },
  {
   "cell_type": "code",
   "execution_count": 11,
   "metadata": {},
   "outputs": [
    {
     "name": "stdout",
     "output_type": "stream",
     "text": [
      "9\n",
      "<head>\n",
      "<title>HTML</title>\n",
      "</head>\n",
      "<object type=\"application/x-flash\" \n",
      " data=\"your-file.swf\"\n",
      "width=\"0\" height=\"0\">\n",
      " <!-- <param name=\"movie\" value=\"your-file.swf\" /> -->\n",
      "<param name=\"quality\" value=\"high\"/>\n",
      "</object>\n",
      "head\n",
      "title\n",
      "object\n",
      "-> type > application/x-flash\n",
      "-> data > your-file.swf\n",
      "-> width > 0\n",
      "-> height > 0\n",
      "param\n",
      "-> name > quality\n",
      "-> value > high\n"
     ]
    }
   ],
   "source": [
    "# Question 13 : Detect HTML Tags, Attributes and Attribute Values.\n",
    "\n",
    "from html.parser import HTMLParser\n",
    "class MyHTMLParser(HTMLParser):\n",
    "    def handle_starttag(self, tag, attrs):\n",
    "        print(tag)\n",
    "        [print('-> {} > {}'.format(*attr)) for attr in attrs]\n",
    "        \n",
    "html = '\\n'.join([input() for _ in range(int(input()))])\n",
    "parser = MyHTMLParser()\n",
    "parser.feed(html)\n",
    "parser.close()"
   ]
  },
  {
   "cell_type": "code",
   "execution_count": 7,
   "metadata": {},
   "outputs": [
    {
     "name": "stdout",
     "output_type": "stream",
     "text": [
      "2\n",
      "B1CD102354\n",
      "Invalid\n",
      "B1CDEF2354\n",
      "Valid\n"
     ]
    }
   ],
   "source": [
    "# Question 14 : Validating UID.\n",
    "\n",
    "def upperCase(uid):\n",
    "    count = 0\n",
    "    for i in range(0, len(uid)):\n",
    "        if uid[i].isupper():\n",
    "            count+=1\n",
    "    if count>=2:\n",
    "        return 1\n",
    "    else:\n",
    "        return 0\n",
    "\n",
    "def is_digit(uid):\n",
    "    count = 0\n",
    "    for i in range(0, len(uid)):\n",
    "        if uid[i].isdigit():\n",
    "            count+=1\n",
    "    if count>=3:\n",
    "        return 1\n",
    "    return 0\n",
    "    \n",
    "def repeatation(uid):\n",
    "    for i in range(0, len(uid)):\n",
    "        if uid.count(uid[i])>1:\n",
    "            return 0\n",
    "    return 1  \n",
    "    \n",
    "    \n",
    "T = int(input())\n",
    "while T>0:\n",
    "    uid = input()\n",
    "    if len(uid)==10 and upperCase(uid) and is_digit(uid) and uid.isalnum() and repeatation(uid):\n",
    "        print('Valid')\n",
    "    else:\n",
    "        print('Invalid')\n",
    "    \n",
    "    T-=1"
   ]
  },
  {
   "cell_type": "code",
   "execution_count": 27,
   "metadata": {},
   "outputs": [
    {
     "name": "stdout",
     "output_type": "stream",
     "text": [
      "5\n",
      "4123456789123456\n",
      "Valid\n",
      "61234-567-8912-3456\n",
      "Invalid\n",
      "5123-4567-8912-3456\n",
      "Valid\n",
      "5133-3367-8912-3456\n",
      "Invalid\n",
      "5123 - 3567 - 8912 - 3456\n",
      "Invalid\n"
     ]
    }
   ],
   "source": [
    "# Question 15 : Validating Credit Card Numbers.\n",
    "\n",
    "def start_with(card):\n",
    "    if 3<int(card[0])<7:\n",
    "        return True\n",
    "    return False \n",
    "\n",
    "def repeated_digits(card):\n",
    "    for i in range(0, len(card)-4+1):\n",
    "        if card[i] == card[i+1] == card[i+2] == card[i+3]:\n",
    "            return False\n",
    "    return True\n",
    "\n",
    "def each_block_frequency(card):\n",
    "    x = card.split('-')\n",
    "    for i in x:\n",
    "        if len(i)!=4:\n",
    "            return False\n",
    "    return True\n",
    "    \n",
    "    \n",
    "T = int(input())\n",
    "while T>0: \n",
    "    card = input()\n",
    "    if len(card) == 16:\n",
    "        if start_with(card) and card.isdigit() and repeated_digits(card):\n",
    "            print('Valid')\n",
    "        else:\n",
    "            print('Invalid')\n",
    "    elif len(card) == 19:\n",
    "        if card.count('-') == 3:\n",
    "            if each_block_frequency(card):\n",
    "                card = card.replace('-', '')\n",
    "                if start_with(card) and card.isdigit() and repeated_digits(card):\n",
    "                    print('Valid')\n",
    "                else:\n",
    "                    print('Invalid')\n",
    "            else:\n",
    "                print('Invalid')          \n",
    "        else:\n",
    "            print('Invalid')\n",
    "    else:\n",
    "        print('Invalid')\n",
    "    T-=1"
   ]
  },
  {
   "cell_type": "code",
   "execution_count": 15,
   "metadata": {},
   "outputs": [
    {
     "name": "stdout",
     "output_type": "stream",
     "text": [
      "110000\n",
      "False\n"
     ]
    }
   ],
   "source": [
    "# Question 16 : Validating Postal Codes\n",
    "\n",
    "import re\n",
    "s=input()\n",
    "print (bool(re.match(r'^[1-9][\\d]{5}$',s) and len(re.findall(r'(\\d)(?=\\d\\1)',s))<2 ))"
   ]
  },
  {
   "cell_type": "code",
   "execution_count": 16,
   "metadata": {},
   "outputs": [
    {
     "name": "stdout",
     "output_type": "stream",
     "text": [
      "7 3\n",
      "Tsi\n",
      "h%x\n",
      "i #\n",
      "sM \n",
      "$a \n",
      "#t%\n",
      "ir!\n",
      "This is Matrix#  %!\n"
     ]
    }
   ],
   "source": [
    "# Question 17 : Matrix Script\n",
    "\n",
    "import re\n",
    "\n",
    "n, m = map(int, input().split())\n",
    "a, b = [], \"\"\n",
    "for _ in range(n):\n",
    "    a.append(input())\n",
    "\n",
    "for z in zip(*a):\n",
    "    b += \"\".join(z)\n",
    "\n",
    "print(re.sub(r\"(?<=\\w)([^\\w]+)(?=\\w)\", \" \", b))"
   ]
  },
  {
   "cell_type": "code",
   "execution_count": null,
   "metadata": {},
   "outputs": [],
   "source": []
  }
 ],
 "metadata": {
  "kernelspec": {
   "display_name": "Python 3",
   "language": "python",
   "name": "python3"
  },
  "language_info": {
   "codemirror_mode": {
    "name": "ipython",
    "version": 3
   },
   "file_extension": ".py",
   "mimetype": "text/x-python",
   "name": "python",
   "nbconvert_exporter": "python",
   "pygments_lexer": "ipython3",
   "version": "3.8.3"
  }
 },
 "nbformat": 4,
 "nbformat_minor": 4
}
