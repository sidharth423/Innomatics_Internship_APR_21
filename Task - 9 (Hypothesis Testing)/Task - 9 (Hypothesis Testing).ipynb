{
 "cells": [
  {
   "cell_type": "markdown",
   "metadata": {},
   "source": [
    "**Importing important libraries**"
   ]
  },
  {
   "cell_type": "code",
   "execution_count": 46,
   "metadata": {},
   "outputs": [],
   "source": [
    "import numpy as np\n",
    "from matplotlib import pyplot as plt\n",
    "import seaborn as sn\n",
    "from scipy.stats import t\n",
    "from scipy.stats import norm"
   ]
  },
  {
   "cell_type": "markdown",
   "metadata": {},
   "source": [
    "**Function for calculating sample standard deviation.**"
   ]
  },
  {
   "cell_type": "code",
   "execution_count": 13,
   "metadata": {},
   "outputs": [],
   "source": [
    "def sample_standard_deviation(sample, sample_size, sample_mean):\n",
    "    squared_deviation = 0\n",
    "    for i in range(sample_size):\n",
    "        deviation = sample[i]-sample_mean\n",
    "        squared_deviation += deviation**2\n",
    "    sample_variance = squared_deviation/(sample_size-1)\n",
    "    return sample_variance**0.5"
   ]
  },
  {
   "cell_type": "markdown",
   "metadata": {},
   "source": [
    "**Function for calculating t-score**"
   ]
  },
  {
   "cell_type": "code",
   "execution_count": 35,
   "metadata": {},
   "outputs": [],
   "source": [
    "def calculate_t_score(sample_mean, pop_mean, sample_std, sample_size):\n",
    "    numerator = sample_mean - pop_mean\n",
    "    denominator = sample_std/(sample_size**0.5)\n",
    "    return numerator/denominator"
   ]
  },
  {
   "cell_type": "markdown",
   "metadata": {},
   "source": [
    "# Hypothesis Testing Steps"
   ]
  },
  {
   "cell_type": "markdown",
   "metadata": {},
   "source": [
    "*Step - 1:*\n",
    "\n",
    "Alternate Hypothesis (Bold claim): $ H_1 \\ \\Rightarrow  >,  <, \\ \\neq  $\n",
    "\n",
    "Null Hypothesis (Status Quo): $ H_0 \\ \\Rightarrow \\ \\leq, \\ \\geq, \\ = $\n",
    "\n",
    "*Step - 2:*\n",
    "\n",
    "Collect a sample of size n\n",
    "\n",
    "Compute the mean from this sample $ \\bar{x} $\n",
    "\n",
    "*Step - 3: Compute Test Statistic:*\n",
    "\n",
    "*If population variance is known* $$ z = \\frac{\\bar{x} - \\mu}{\\sigma/\\sqrt[2]{n}}$$\n",
    "\n",
    "If population variance is unknown $$ t = \\frac{\\bar{x} - \\mu}{s/\\sqrt[2]{n}} $$\n",
    "\n",
    "*Step - 4:* \n",
    "\n",
    "Decide significance level $ \\alpha $. Lower $ \\alpha $ means you need stronger evidence to reject Null Hypothesis.\n",
    "\n",
    "*Step - 5.1:*\n",
    "\n",
    "Apply decision rule:\n",
    "\n",
    "*If test statistic is z-score -*\n",
    "\n",
    "Two tailed z-test: $$ |z| > z_\\frac{\\alpha}{2} \\Rightarrow Accept \\ H_1 \\ or \\ Reject \\ H_0$$\n",
    "Right tailed z-test:$$ z > z_\\alpha \\Rightarrow Accept \\ H_1 \\ or \\ Reject \\ H_0 $$\n",
    "Left tailed z-test:$$ z < -z_\\alpha \\Rightarrow Accept \\ H_1 \\ or \\ Reject \\ H_0 $$\n",
    "\n",
    "\n",
    "*If test statistic is t-score*\n",
    "\n",
    "Two tailed t-test: $$ |t| > t_{n-1,\\frac{\\alpha}{2}} \\Rightarrow Accept \\ H_1 \\ or \\ Reject \\ H_0 $$\n",
    "Right tailed t-test:$$ t > t_{n-1,\\alpha} \\Rightarrow Accept \\ H_1 \\ or \\ Reject \\ H_0 $$\n",
    "Left tailed t-test:$$ t < t_{n-1,\\alpha} \\Rightarrow Accept \\ H_1 \\ or \\ Reject \\ H_0 $$\n",
    "\n",
    "\n",
    "*Step - 5.2: Compute p-value $ P(Test \\ Statistics | H_0) $*\n",
    "\n",
    "For two tailed test:$$ p \\ value = 2 * (1.0 - cdf(test \\ statistic)) $$\n",
    "For one tailed test:$$ p \\ value = (1.0 - cdf(test \\ statistic)) $$Now,$$ if (p \\ value < \\alpha) \\Rightarrow Accept \\ H_1 \\ or \\ Reject \\ H_0 $$"
   ]
  },
  {
   "cell_type": "code",
   "execution_count": null,
   "metadata": {},
   "outputs": [],
   "source": []
  },
  {
   "cell_type": "code",
   "execution_count": null,
   "metadata": {},
   "outputs": [],
   "source": []
  },
  {
   "cell_type": "markdown",
   "metadata": {},
   "source": [
    "**Q-1: Pista House selling Hyderabadi Chicken Dum biryani claims that each parcel packet has 500 grams of biryani (also mentioned on the label of packet). You are sceptic of their claims and believe that on average each packet does not contain 500 grams of biryani. How do you prove your claim?**\n"
   ]
  },
  {
   "cell_type": "markdown",
   "metadata": {},
   "source": [
    "Step - 1:\n",
    "Alternate Hypothesis (Bold claim):$$ H_1: \\mu \\neq 500 $$\n",
    " \n",
    "Null Hypothesis (Status Quo):$$ H_0: \\mu = 500 $$\n",
    "\n",
    "Step - 2:\n",
    "\n",
    "Collect a sample of size n = 10$$ [490, 220, 470, 500, 495, 496, 496, 498, 508, 480] $$\n",
    "\n",
    "Compute sample mean$$ \\bar{x} \\ = \\ ? $$\n",
    "Step - 3: Compute Test Statistic:$$ t = \\frac{\\bar{x} - \\mu}{S/\\sqrt[2]{n}}$$\n",
    "\n",
    "Step - 4: Decide $ \\alpha $ or significance level = 0.05\n",
    "\n",
    "Step - 5.1: Two tailed t-test:\n",
    "\n",
    "$$ |t| > t_{n-1,\\frac{\\alpha}{2}} \\Rightarrow Accept \\ H_1 \\ or \\ Reject \\ H_0 $$"
   ]
  },
  {
   "cell_type": "code",
   "execution_count": 17,
   "metadata": {},
   "outputs": [],
   "source": [
    "# sample and population mean is given\n",
    "\n",
    "sample = [490, 220, 470, 500, 495, 496, 496, 498, 508, 480] \n",
    "population_mean = 500"
   ]
  },
  {
   "cell_type": "code",
   "execution_count": 5,
   "metadata": {},
   "outputs": [
    {
     "data": {
      "text/plain": [
       "10"
      ]
     },
     "execution_count": 5,
     "metadata": {},
     "output_type": "execute_result"
    }
   ],
   "source": [
    "# calculatin sample size\n",
    "\n",
    "sample_size = len(sample)\n",
    "sample_size"
   ]
  },
  {
   "cell_type": "code",
   "execution_count": 3,
   "metadata": {},
   "outputs": [
    {
     "data": {
      "text/plain": [
       "465.3"
      ]
     },
     "execution_count": 3,
     "metadata": {},
     "output_type": "execute_result"
    }
   ],
   "source": [
    "# calculating sample mean\n",
    "\n",
    "sample_mean = sum(sample)/len(sample)\n",
    "sample_mean"
   ]
  },
  {
   "cell_type": "code",
   "execution_count": 14,
   "metadata": {},
   "outputs": [
    {
     "data": {
      "text/plain": [
       "86.84859110991827"
      ]
     },
     "execution_count": 14,
     "metadata": {},
     "output_type": "execute_result"
    }
   ],
   "source": [
    "# calculating sample std deviation\n",
    "\n",
    "sample_std_deviation = sample_standard_deviation(sample, sample_size ,sample_mean)\n",
    "sample_std_deviation"
   ]
  },
  {
   "cell_type": "code",
   "execution_count": 39,
   "metadata": {},
   "outputs": [
    {
     "data": {
      "text/plain": [
       "-1.2634751284446715"
      ]
     },
     "execution_count": 39,
     "metadata": {},
     "output_type": "execute_result"
    }
   ],
   "source": [
    "# Calculating t-score\n",
    "\n",
    "t_score = calculate_t_score(sample_mean, population_mean, sample_std_deviation, sample_size)\n",
    "t_score"
   ]
  },
  {
   "cell_type": "code",
   "execution_count": 38,
   "metadata": {},
   "outputs": [
    {
     "data": {
      "text/plain": [
       "2.2621571627409915"
      ]
     },
     "execution_count": 38,
     "metadata": {},
     "output_type": "execute_result"
    }
   ],
   "source": [
    "# Two Tail - Calculating the t-critical value\n",
    "\n",
    "confidence_interval = 0.95\n",
    "\n",
    "alpha = 1-confidence_interval\n",
    "\n",
    "df = sample_size - 1 \n",
    "\n",
    "t_critical = t.ppf(1-alpha/2, df)\n",
    "t_critical"
   ]
  },
  {
   "cell_type": "code",
   "execution_count": 53,
   "metadata": {},
   "outputs": [
    {
     "data": {
      "text/plain": [
       "Text(465.3, 0.0007, 'x_bar')"
      ]
     },
     "execution_count": 53,
     "metadata": {},
     "output_type": "execute_result"
    },
    {
     "data": {
      "image/png": "[encoded data removed]",
      "text/plain": [
       "<Figure size 432x288 with 1 Axes>"
      ]
     },
     "metadata": {
      "needs_background": "light"
     },
     "output_type": "display_data"
    }
   ],
   "source": [
    "# Ploting the sampling distribution with rejection regions\n",
    "\n",
    "# Defining the x minimum and x maximum\n",
    "x_min = 400\n",
    "x_max = 600\n",
    "\n",
    "\n",
    "# Defining the sampling distribution mean and sampling distribution std\n",
    "mean = population_mean\n",
    "std = sample_std_deviation / sample_size**0.5\n",
    "\n",
    "\n",
    "# Ploting the graph and setting the x limits\n",
    "x = np.linspace(x_min, x_max, 100)\n",
    "y = norm.pdf(x, mean, std)\n",
    "plt.xlim(x_min, x_max)\n",
    "plt.plot(x, y)\n",
    "\n",
    "\n",
    "# Computing the left and right critical values (Two tailed Test)\n",
    "t_critical_left = mean + (-t_critical * std)\n",
    "t_critical_right = mean + (t_critical * std)\n",
    "\n",
    "\n",
    "# Shading the left rejection region\n",
    "x1 = np.linspace(x_min, t_critical_left, 100)\n",
    "y1 = norm.pdf(x1, mean, std)\n",
    "plt.fill_between(x1, y1, color='orange')\n",
    "\n",
    "\n",
    "# Shading the right rejection region\n",
    "x2 = np.linspace(t_critical_right, x_max, 100)\n",
    "y2 = norm.pdf(x2, mean, std)\n",
    "plt.fill_between(x2, y2, color='orange')\n",
    "\n",
    "\n",
    "# Ploting the sample mean and concluding the results \n",
    "plt.scatter(sample_mean, 0)\n",
    "plt.annotate(\"x_bar\", (sample_mean, 0.0007))\n",
    "\n",
    "\n",
    "# In this case sample mean falls in the rejection region\n",
    "# i.e. here we reject the Null Hypothesis"
   ]
  },
  {
   "cell_type": "code",
   "execution_count": 54,
   "metadata": {},
   "outputs": [
    {
     "name": "stdout",
     "output_type": "stream",
     "text": [
      "Fail to reject Null Hypothesis\n"
     ]
    }
   ],
   "source": [
    "# Conclusion using t test\n",
    "\n",
    "if abs(t_score)>t_critical:\n",
    "    print('Reject Null Hypothesis')\n",
    "else:\n",
    "    print('Fail to reject Null Hypothesis')"
   ]
  },
  {
   "cell_type": "code",
   "execution_count": null,
   "metadata": {},
   "outputs": [],
   "source": []
  },
  {
   "cell_type": "code",
   "execution_count": null,
   "metadata": {},
   "outputs": [],
   "source": []
  },
  {
   "cell_type": "markdown",
   "metadata": {},
   "source": [
    "**Q-2: You have developed a new Natural Language Processing Algorithms and done a user study. You claim that the average rating given by the users is greater than 4 on a scale of 1 to 5. How do you prove this to your client?**"
   ]
  },
  {
   "cell_type": "markdown",
   "metadata": {},
   "source": [
    "Step - 1:\n",
    "Alternate Hypothesis (Bold claim):$$ H_1: \\mu > 4 $$\n",
    " \n",
    "Null Hypothesis (Status Quo):$$ H_0: \\mu \\leq 4 $$\n",
    "\n",
    "Step - 2:\n",
    "\n",
    "Collect a sample of size n = 20$$ [4, 3, 5, 4, 5, 3, 5, 5, 4, 2, 4, 5, 5, 4, 4, 5, 4, 5, 4, 5] $$\n",
    "\n",
    "\n",
    "Compute sample mean$$ \\bar{x} \\ = \\ ? $$\n",
    "Step - 3: Compute Test Statistic:$$ t = \\frac{\\bar{x} - \\mu}{S/\\sqrt[2]{n}}$$\n",
    "\n",
    "Step - 4: Decide $ \\alpha $ or significance level = 0.05\n",
    "\n",
    "Step - 5.1: Right tailed t-test:\n",
    "\n",
    "$$ t > t_{n-1,\\alpha} \\Rightarrow Accept \\ H_1 \\ or \\ Reject \\ H_0 $$"
   ]
  },
  {
   "cell_type": "code",
   "execution_count": 58,
   "metadata": {},
   "outputs": [],
   "source": [
    "# sample and population mean is given\n",
    "\n",
    "sample = [4,3,5,4,5,3,5,5,4,2,4,5,5,4,4,5,4,5,4,5] \n",
    "population_mean = 4"
   ]
  },
  {
   "cell_type": "code",
   "execution_count": 59,
   "metadata": {},
   "outputs": [
    {
     "data": {
      "text/plain": [
       "20"
      ]
     },
     "execution_count": 59,
     "metadata": {},
     "output_type": "execute_result"
    }
   ],
   "source": [
    "# calculatin sample size\n",
    "\n",
    "sample_size = len(sample)\n",
    "sample_size"
   ]
  },
  {
   "cell_type": "code",
   "execution_count": 61,
   "metadata": {},
   "outputs": [
    {
     "data": {
      "text/plain": [
       "4.25"
      ]
     },
     "execution_count": 61,
     "metadata": {},
     "output_type": "execute_result"
    }
   ],
   "source": [
    "# calculating sample mean\n",
    "\n",
    "sample_mean = sum(sample)/len(sample)\n",
    "sample_mean"
   ]
  },
  {
   "cell_type": "code",
   "execution_count": 62,
   "metadata": {},
   "outputs": [
    {
     "data": {
      "text/plain": [
       "0.8506963092234007"
      ]
     },
     "execution_count": 62,
     "metadata": {},
     "output_type": "execute_result"
    }
   ],
   "source": [
    "# calculating sample std deviation\n",
    "\n",
    "sample_std_deviation = sample_standard_deviation(sample, sample_size ,sample_mean)\n",
    "sample_std_deviation"
   ]
  },
  {
   "cell_type": "code",
   "execution_count": 63,
   "metadata": {},
   "outputs": [
    {
     "data": {
      "text/plain": [
       "1.3142574813455419"
      ]
     },
     "execution_count": 63,
     "metadata": {},
     "output_type": "execute_result"
    }
   ],
   "source": [
    "# Calculating t-score\n",
    "\n",
    "t_score = calculate_t_score(sample_mean, population_mean, sample_std_deviation, sample_size)\n",
    "t_score"
   ]
  },
  {
   "cell_type": "code",
   "execution_count": 64,
   "metadata": {},
   "outputs": [
    {
     "data": {
      "text/plain": [
       "1.729132811521367"
      ]
     },
     "execution_count": 64,
     "metadata": {},
     "output_type": "execute_result"
    }
   ],
   "source": [
    "# Right Tail t test - Calculating the t-critical value\n",
    "\n",
    "confidence_interval = 0.95\n",
    "\n",
    "alpha = 1-confidence_interval\n",
    "\n",
    "df = sample_size - 1 \n",
    "\n",
    "t_critical = t.ppf(1-alpha, df)\n",
    "t_critical"
   ]
  },
  {
   "cell_type": "code",
   "execution_count": 65,
   "metadata": {},
   "outputs": [
    {
     "data": {
      "text/plain": [
       "Text(4.25, 0.0007, 'x_bar')"
      ]
     },
     "execution_count": 65,
     "metadata": {},
     "output_type": "execute_result"
    },
    {
     "data": {
      "image/png": "[encoded data removed]",
      "text/plain": [
       "<Figure size 432x288 with 1 Axes>"
      ]
     },
     "metadata": {
      "needs_background": "light"
     },
     "output_type": "display_data"
    }
   ],
   "source": [
    "# Ploting the sampling distribution with rejection regions\n",
    "\n",
    "# Defining the x minimum and x maximum\n",
    "x_min = 3.5\n",
    "x_max = 4.5\n",
    "\n",
    "\n",
    "# Defining the sampling distribution mean and sampling distribution std\n",
    "mean = population_mean\n",
    "std = sample_std_deviation / sample_size**0.5\n",
    "\n",
    "\n",
    "# Ploting the graph and setting the x limits\n",
    "x = np.linspace(x_min, x_max, 100)\n",
    "y = norm.pdf(x, mean, std)\n",
    "plt.xlim(x_min, x_max)\n",
    "plt.plot(x, y)\n",
    "\n",
    "\n",
    "# Computing t-critical right value (right tailed Test)\n",
    "t_critical_right = mean + (t_critical * std)\n",
    "\n",
    "\n",
    "# Shading the right rejection region\n",
    "x2 = np.linspace(t_critical_right, x_max, 100)\n",
    "y2 = norm.pdf(x2, mean, std)\n",
    "plt.fill_between(x2, y2, color='orange')\n",
    "\n",
    "\n",
    "# Ploting the sample mean and concluding the results \n",
    "plt.scatter(sample_mean, 0)\n",
    "plt.annotate(\"x_bar\", (sample_mean, 0.0007))\n",
    "\n",
    "\n",
    "# In this case sample mean falls in the rejection region\n",
    "# i.e. here we reject the Null Hypothesis"
   ]
  },
  {
   "cell_type": "code",
   "execution_count": 66,
   "metadata": {},
   "outputs": [
    {
     "name": "stdout",
     "output_type": "stream",
     "text": [
      "Fail to reject Null Hypothesis\n"
     ]
    }
   ],
   "source": [
    "# Conclusion using t test\n",
    "\n",
    "if t_score>t_critical:\n",
    "    print('Reject Null Hypothesis')\n",
    "else:\n",
    "    print('Fail to reject Null Hypothesis')"
   ]
  },
  {
   "cell_type": "code",
   "execution_count": null,
   "metadata": {},
   "outputs": [],
   "source": []
  },
  {
   "cell_type": "code",
   "execution_count": null,
   "metadata": {},
   "outputs": [],
   "source": []
  },
  {
   "cell_type": "markdown",
   "metadata": {},
   "source": [
    "**Q-3: TATA has developed a better fuel management system for the SUV segment. They claim that with this system, on average the SUV's mileage is at least 15 km/litre?**"
   ]
  },
  {
   "cell_type": "markdown",
   "metadata": {},
   "source": [
    "Step - 1:\n",
    "Alternate Hypothesis (Bold claim):$$ H_1: \\mu > 15 $$\n",
    " \n",
    "Null Hypothesis (Status Quo):$$ H_0: \\mu \\leq 15 $$\n",
    "\n",
    "Step - 2:\n",
    "\n",
    "Collect a sample of size n = 20$$ [14.08, 14.13, 15.65, 13.78, 16.26, 14.97, 15.36, 15.81, 14.53, 16.79, 15.78, 16.98, 13.23, 15.43, 15.46, 13.88, 14.31, 14.41, 15.76, 15.38] $$\n",
    "\n",
    "\n",
    "Compute sample mean$$ \\bar{x} \\ = \\ ? $$\n",
    "Step - 3: Compute Test Statistic:$$ t = \\frac{\\bar{x} - \\mu}{S/\\sqrt[2]{n}}$$\n",
    "\n",
    "Step - 4: Decide $ \\alpha $ or significance level = 0.05\n",
    "\n",
    "Step - 5.1: Right tailed t-test:\n",
    "\n",
    "$$ t > t_{n-1,\\alpha} \\Rightarrow Accept \\ H_1 \\ or \\ Reject \\ H_0 $$"
   ]
  },
  {
   "cell_type": "code",
   "execution_count": 67,
   "metadata": {},
   "outputs": [],
   "source": [
    "# sample and population mean is given\n",
    "\n",
    "sample = [14.08,14.13,15.65,13.78,16.26,14.97,15.36,15.81,14.53,16.79,15.78,16.98,\\\n",
    "          13.23,15.43,15.46,13.88,14.31,14.41,15.76,15.38]\n",
    "population_mean = 15"
   ]
  },
  {
   "cell_type": "code",
   "execution_count": 69,
   "metadata": {},
   "outputs": [
    {
     "data": {
      "text/plain": [
       "20"
      ]
     },
     "execution_count": 69,
     "metadata": {},
     "output_type": "execute_result"
    }
   ],
   "source": [
    "# calculatin sample size\n",
    "\n",
    "sample_size = len(sample)\n",
    "sample_size"
   ]
  },
  {
   "cell_type": "code",
   "execution_count": 70,
   "metadata": {},
   "outputs": [
    {
     "data": {
      "text/plain": [
       "15.098999999999998"
      ]
     },
     "execution_count": 70,
     "metadata": {},
     "output_type": "execute_result"
    }
   ],
   "source": [
    "# calculating sample mean\n",
    "\n",
    "sample_mean = sum(sample)/len(sample)\n",
    "sample_mean"
   ]
  },
  {
   "cell_type": "code",
   "execution_count": 71,
   "metadata": {},
   "outputs": [
    {
     "data": {
      "text/plain": [
       "1.0253671999517255"
      ]
     },
     "execution_count": 71,
     "metadata": {},
     "output_type": "execute_result"
    }
   ],
   "source": [
    "# calculating sample std deviation\n",
    "\n",
    "sample_std_deviation = sample_standard_deviation(sample, sample_size ,sample_mean)\n",
    "sample_std_deviation"
   ]
  },
  {
   "cell_type": "code",
   "execution_count": 72,
   "metadata": {},
   "outputs": [
    {
     "data": {
      "text/plain": [
       "0.4317882018907916"
      ]
     },
     "execution_count": 72,
     "metadata": {},
     "output_type": "execute_result"
    }
   ],
   "source": [
    "# Calculating t-score\n",
    "\n",
    "t_score = calculate_t_score(sample_mean, population_mean, sample_std_deviation, sample_size)\n",
    "t_score"
   ]
  },
  {
   "cell_type": "code",
   "execution_count": 73,
   "metadata": {},
   "outputs": [
    {
     "data": {
      "text/plain": [
       "1.729132811521367"
      ]
     },
     "execution_count": 73,
     "metadata": {},
     "output_type": "execute_result"
    }
   ],
   "source": [
    "# Right Tail t test - Calculating the t-critical value\n",
    "\n",
    "confidence_interval = 0.95\n",
    "\n",
    "alpha = 1-confidence_interval\n",
    "\n",
    "df = sample_size - 1 \n",
    "\n",
    "t_critical = t.ppf(1-alpha, df)\n",
    "t_critical"
   ]
  },
  {
   "cell_type": "code",
   "execution_count": 80,
   "metadata": {},
   "outputs": [
    {
     "data": {
      "text/plain": [
       "Text(15.098999999999998, 0.07, 'x_bar')"
      ]
     },
     "execution_count": 80,
     "metadata": {},
     "output_type": "execute_result"
    },
    {
     "data": {
      "image/png": "[encoded data removed]",
      "text/plain": [
       "<Figure size 432x288 with 1 Axes>"
      ]
     },
     "metadata": {
      "needs_background": "light"
     },
     "output_type": "display_data"
    }
   ],
   "source": [
    "# Ploting the sampling distribution with rejection regions\n",
    "\n",
    "# Defining the x minimum and x maximum\n",
    "x_min = 14\n",
    "x_max = 16\n",
    "\n",
    "\n",
    "# Defining the sampling distribution mean and sampling distribution std\n",
    "mean = population_mean\n",
    "std = sample_std_deviation / sample_size**0.5\n",
    "\n",
    "\n",
    "# Ploting the graph and setting the x limits\n",
    "x = np.linspace(x_min, x_max, 100)\n",
    "y = norm.pdf(x, mean, std)\n",
    "plt.xlim(x_min, x_max)\n",
    "plt.plot(x, y)\n",
    "\n",
    "\n",
    "# Computing t-critical right value (right tailed Test)\n",
    "t_critical_right = mean + (t_critical * std)\n",
    "\n",
    "\n",
    "# Shading the right rejection region\n",
    "x2 = np.linspace(t_critical_right, x_max, 100)\n",
    "y2 = norm.pdf(x2, mean, std)\n",
    "plt.fill_between(x2, y2, color='orange')\n",
    "\n",
    "\n",
    "# Ploting the sample mean and concluding the results \n",
    "plt.scatter(sample_mean, 0)\n",
    "plt.annotate(\"x_bar\", (sample_mean, 0.07))\n",
    "\n",
    "\n",
    "# In this case sample mean falls in the rejection region\n",
    "# i.e. here we reject the Null Hypothesis"
   ]
  },
  {
   "cell_type": "code",
   "execution_count": 81,
   "metadata": {},
   "outputs": [
    {
     "name": "stdout",
     "output_type": "stream",
     "text": [
      "Fail to reject Null Hypothesis\n"
     ]
    }
   ],
   "source": [
    "# Conclusion using Right t test\n",
    "\n",
    "if t_score>t_critical:\n",
    "    print('Reject Null Hypothesis')\n",
    "else:\n",
    "    print('Fail to reject Null Hypothesis')"
   ]
  },
  {
   "cell_type": "code",
   "execution_count": null,
   "metadata": {},
   "outputs": [],
   "source": []
  },
  {
   "cell_type": "code",
   "execution_count": null,
   "metadata": {},
   "outputs": [],
   "source": []
  },
  {
   "cell_type": "markdown",
   "metadata": {},
   "source": [
    "**Q-4: You have developed a new Machine Learning Application and claim that on average it takes less than 100 ms to predict for any future datapoint. How do you convince your client about this claim?(S = 7)**"
   ]
  },
  {
   "cell_type": "markdown",
   "metadata": {},
   "source": [
    "Step - 1:\n",
    "Alternate Hypothesis (Bold claim):$$ H_1: \\mu < 100 $$\n",
    " \n",
    "Null Hypothesis (Status Quo):$$ H_0: \\mu \\geq 15 $$\n",
    "\n",
    "Step - 2:\n",
    "\n",
    "Collect a sample of size n = 100\n",
    "\n",
    "\n",
    "Compute sample mean$$ \\bar{x} \\ = \\ ? $$\n",
    "Step - 3: Compute Test Statistic:$$ t = \\frac{\\bar{x} - \\mu}{S/\\sqrt[2]{n}}$$\n",
    "\n",
    "Step - 4: Decide $ \\alpha $ or significance level = 0.05\n",
    "\n",
    "Step - 5.1: left tailed t-test:\n",
    "\n",
    "$$ t < t_{n-1,\\alpha} \\rightarrow Accept \\ H_1 \\ or \\ Reject \\ H_0 $$"
   ]
  },
  {
   "cell_type": "code",
   "execution_count": 85,
   "metadata": {},
   "outputs": [],
   "source": [
    "# Sample size, sample mean, population mean and sample std deviation is given\n",
    "\n",
    "sample_size = 100\n",
    "sample_mean = 97.5\n",
    "population_mean = 100\n",
    "sample_std_deviation = 7"
   ]
  },
  {
   "cell_type": "code",
   "execution_count": 86,
   "metadata": {},
   "outputs": [
    {
     "data": {
      "text/plain": [
       "-3.5714285714285716"
      ]
     },
     "execution_count": 86,
     "metadata": {},
     "output_type": "execute_result"
    }
   ],
   "source": [
    "# Calculating t-score\n",
    "\n",
    "t_score = calculate_t_score(sample_mean, population_mean, sample_std_deviation, sample_size)\n",
    "t_score"
   ]
  },
  {
   "cell_type": "code",
   "execution_count": 91,
   "metadata": {},
   "outputs": [
    {
     "data": {
      "text/plain": [
       "1.6603911559963895"
      ]
     },
     "execution_count": 91,
     "metadata": {},
     "output_type": "execute_result"
    }
   ],
   "source": [
    "# Calculating the left t-critical value\n",
    "\n",
    "confidence_interval = 0.95\n",
    "\n",
    "alpha = 1-confidence_interval\n",
    "\n",
    "df = sample_size - 1 \n",
    "\n",
    "t_critical = t.ppf(1-alpha, df)\n",
    "t_critical"
   ]
  },
  {
   "cell_type": "code",
   "execution_count": 94,
   "metadata": {},
   "outputs": [
    {
     "data": {
      "text/plain": [
       "Text(97.5, 0.0007, 'x_bar')"
      ]
     },
     "execution_count": 94,
     "metadata": {},
     "output_type": "execute_result"
    },
    {
     "data": {
      "image/png": "[encoded data removed]",
      "text/plain": [
       "<Figure size 432x288 with 1 Axes>"
      ]
     },
     "metadata": {
      "needs_background": "light"
     },
     "output_type": "display_data"
    }
   ],
   "source": [
    "# Ploting the sampling distribution with rejection regions\n",
    "\n",
    "# Defining the x minimum and x maximum\n",
    "x_min = 97\n",
    "x_max = 103\n",
    "\n",
    "\n",
    "# Defining the sampling distribution mean and sampling distribution std\n",
    "mean = population_mean\n",
    "std = sample_std_deviation / sample_size**0.5\n",
    "\n",
    "\n",
    "# Ploting the graph and setting the x limits\n",
    "x = np.linspace(x_min, x_max, 100)\n",
    "y = norm.pdf(x, mean, std)\n",
    "plt.xlim(x_min, x_max)\n",
    "plt.plot(x, y)\n",
    "\n",
    "\n",
    "# Computing left t-critical(left tailed Test)\n",
    "t_critical_left = mean + (-t_critical * std)\n",
    "\n",
    "x1 = np.linspace(x_min, t_critical_left, 100)\n",
    "y1 = norm.pdf(x1, mean, std)\n",
    "plt.fill_between(x1, y1, color='orange')\n",
    "\n",
    "\n",
    "# Ploting the sample mean and concluding the results \n",
    "plt.scatter(sample_mean, 0)\n",
    "plt.annotate(\"x_bar\", (sample_mean, 0.0007))\n",
    "\n",
    "\n",
    "# In this case sample mean falls in the rejection region\n",
    "# i.e. here we reject the Null Hypothesis"
   ]
  },
  {
   "cell_type": "code",
   "execution_count": 95,
   "metadata": {},
   "outputs": [
    {
     "name": "stdout",
     "output_type": "stream",
     "text": [
      "Reject Null Hypothesis\n"
     ]
    }
   ],
   "source": [
    "# Conclusion using left tail test\n",
    "\n",
    "if t_score<-t_critical:\n",
    "    print('Reject Null Hypothesis')\n",
    "else:\n",
    "    print('Fail to reject Null Hypothesis')"
   ]
  },
  {
   "cell_type": "code",
   "execution_count": null,
   "metadata": {},
   "outputs": [],
   "source": []
  }
 ],
 "metadata": {
  "kernelspec": {
   "display_name": "Python 3",
   "language": "python",
   "name": "python3"
  },
  "language_info": {
   "codemirror_mode": {
    "name": "ipython",
    "version": 3
   },
   "file_extension": ".py",
   "mimetype": "text/x-python",
   "name": "python",
   "nbconvert_exporter": "python",
   "pygments_lexer": "ipython3",
   "version": "3.8.3"
  }
 },
 "nbformat": 4,
 "nbformat_minor": 4
}
