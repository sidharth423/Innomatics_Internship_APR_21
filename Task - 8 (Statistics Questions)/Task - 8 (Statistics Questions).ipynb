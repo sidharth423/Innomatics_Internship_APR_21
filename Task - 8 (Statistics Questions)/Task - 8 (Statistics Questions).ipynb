{
 "cells": [
  {
   "cell_type": "code",
   "execution_count": 2,
   "metadata": {},
   "outputs": [
    {
     "name": "stdout",
     "output_type": "stream",
     "text": [
      "1.09 1\n",
      "0.696\n"
     ]
    }
   ],
   "source": [
    "# Question 1 : Binomial Distribution I.\n",
    "\n",
    "import math\n",
    "boy, girl = map(float, input().split())\n",
    "b = boy / (boy+girl)\n",
    "g = girl / (boy + girl)\n",
    "boy_3 = (math.factorial(6)/(math.factorial(3)*math.factorial(3)))*(b**3 * g**3)\n",
    "boy_4 = (math.factorial(6)/(math.factorial(4)*math.factorial(2)))*(b**4 * g**2)\n",
    "boy_5 = (math.factorial(6)/(math.factorial(5)*math.factorial(1)))*(b**5 * g**1)\n",
    "boy_6 = (math.factorial(6)/(math.factorial(6)*math.factorial(0)))*(b**6 * g**0)\n",
    "\n",
    "print(\"{:.3f}\".format(boy_3 + boy_4 + boy_5 + boy_6))"
   ]
  },
  {
   "cell_type": "code",
   "execution_count": 3,
   "metadata": {},
   "outputs": [
    {
     "name": "stdout",
     "output_type": "stream",
     "text": [
      "12 10\n",
      "0.891\n",
      "0.342\n"
     ]
    }
   ],
   "source": [
    "# Question 2 : Binomial Distribution II.\n",
    "\n",
    "import math\n",
    "\n",
    "defect, number = map(float, input().split())\n",
    "d = defect / 100\n",
    "\n",
    "zero_defect = (math.factorial(10)/(math.factorial(0)*math.factorial(10)))* d**0 * (1-d)**10\n",
    "one_defect = (math.factorial(10)/(math.factorial(1)*math.factorial(9)))* d**1 * (1-d)**9\n",
    "two_defect = (math.factorial(10)/(math.factorial(2)*math.factorial(8)))* d**2 * (1-d)**8\n",
    "\n",
    "no_more_than_2_def = \"{:.3f}\".format(zero_defect + one_defect + two_defect)\n",
    "print(no_more_than_2_def)\n",
    "print('{:.3f}'.format(1-float(zero_defect)-float(one_defect)))"
   ]
  },
  {
   "cell_type": "code",
   "execution_count": 4,
   "metadata": {},
   "outputs": [
    {
     "name": "stdout",
     "output_type": "stream",
     "text": [
      "20 2\n",
      "19.5\n",
      "20 22\n",
      "0.401\n",
      "0.341\n"
     ]
    }
   ],
   "source": [
    "# Question 3 : Normal Distribution I\n",
    "\n",
    "import math\n",
    "\n",
    "def norm(mean,std,x):\n",
    "    num=(x-mean)\n",
    "    power=num/(std*(2**0.5))\n",
    "    p=math.erf(power)\n",
    "    p+=1\n",
    "    p=p/2\n",
    "    return p\n",
    "\n",
    "\n",
    "mean, std = map(float, input().split())\n",
    "x = float(input())\n",
    "lower_x, upper_x = map(float, input().split())\n",
    "\n",
    "print(round(norm(mean, std, x), 3))\n",
    "print(round( norm(mean, std, upper_x) - norm(mean, std, lower_x), 3)) "
   ]
  },
  {
   "cell_type": "code",
   "execution_count": 5,
   "metadata": {},
   "outputs": [
    {
     "name": "stdout",
     "output_type": "stream",
     "text": [
      "70 10\n",
      "80\n",
      "15.87\n",
      "60\n",
      "84.13\n",
      "15.87\n"
     ]
    }
   ],
   "source": [
    "# Question 4 : Normal Distribution I\n",
    "\n",
    "import math\n",
    "\n",
    "def norm(mean,std,x):\n",
    "    num=(x-mean)\n",
    "    p=num/(std*(2**0.5))\n",
    "    t=math.erf(p)\n",
    "    t+=1\n",
    "    t=t/2\n",
    "    return t\n",
    "\n",
    "mean, std = map(float, input().split())\n",
    "x = float(input())\n",
    "print(round(( (1-norm(mean,std,x)) * 100), 2))\n",
    "\n",
    "pass_fail=float(input())\n",
    "\n",
    "print(round(((1-norm(mean,std,pass_fail)) * 100), 2))\n",
    "print(round(norm(mean, std, pass_fail) * 100, 2))"
   ]
  },
  {
   "cell_type": "code",
   "execution_count": 6,
   "metadata": {},
   "outputs": [
    {
     "name": "stdout",
     "output_type": "stream",
     "text": [
      "9800\n",
      "49\n",
      "205\n",
      "15\n",
      "0.0098\n"
     ]
    }
   ],
   "source": [
    "# Question 5 : The Central Limit Theorem I.\n",
    "\n",
    "import math\n",
    "\n",
    "x = int(input())\n",
    "n = int(input())\n",
    "sample_mean = int(input())*n\n",
    "std = int(input())*(n**0.5)\n",
    "\n",
    "z = (x-sample_mean) / std\n",
    "\n",
    "y = 0.5 * (1 + math.erf(z/(2**0.5)))\n",
    "\n",
    "print(round(y, 4))"
   ]
  },
  {
   "cell_type": "code",
   "execution_count": 8,
   "metadata": {},
   "outputs": [
    {
     "name": "stdout",
     "output_type": "stream",
     "text": [
      "250\n",
      "100\n",
      "2.4\n",
      "2.0\n",
      "0.6915\n"
     ]
    }
   ],
   "source": [
    "# Question 6 : The Central Limit Theorem II.\n",
    "\n",
    "import math\n",
    "x = float(input())\n",
    "n = float(input())\n",
    "mean = float(input())\n",
    "std = float(input())\n",
    "\n",
    "mean_sum = mean*n\n",
    "std_sum = std*(n**0.5)\n",
    "\n",
    "z = (x-mean_sum)/std_sum\n",
    "\n",
    "y = 0.5 * (1 + math.erf(z/(2**0.5)))\n",
    "print(round(y,4))"
   ]
  },
  {
   "cell_type": "code",
   "execution_count": 9,
   "metadata": {},
   "outputs": [
    {
     "name": "stdout",
     "output_type": "stream",
     "text": [
      "100\n",
      "500\n",
      "80\n",
      "0.95\n",
      "1.96\n",
      "484.32\n",
      "515.68\n"
     ]
    }
   ],
   "source": [
    "# Question 7 : The Central Limit Theorem III\n",
    "\n",
    "sample_size = int(input())\n",
    "mean = int(input())\n",
    "std = int(input())\n",
    "dist = float(input())\n",
    "z = float(input())\n",
    "\n",
    "z = z * (std/(sample_size**0.5))\n",
    "\n",
    "A = mean - z\n",
    "B = z + mean\n",
    "print(round(A,2))\n",
    "print(round(B,2))"
   ]
  },
  {
   "cell_type": "code",
   "execution_count": 12,
   "metadata": {},
   "outputs": [
    {
     "name": "stdout",
     "output_type": "stream",
     "text": [
      "10\n",
      "10 9.8 8 7.8 7.7 7 6 5 4 2 \n",
      "200 44 32 24 22 17 15 12 8 4\n",
      "0.612\n"
     ]
    }
   ],
   "source": [
    "# Question 8 : Pearson Correlation Coefficient I\n",
    "\n",
    "import statistics as stats\n",
    "\n",
    "n = int(input())\n",
    "X = list(map(float, input().split()))\n",
    "Y = list(map(float, input().split()))\n",
    "\n",
    "mean_x = stats.mean(X)\n",
    "mean_y = stats.mean(Y)\n",
    "\n",
    "std_x = stats.pstdev(X)\n",
    "std_y = stats.pstdev(Y)\n",
    "\n",
    "total = 0\n",
    "\n",
    "for i in range(n):\n",
    "    t = (X[i]-mean_x) * (Y[i]-mean_y)\n",
    "    total+=t\n",
    "    \n",
    "cov=total/n\n",
    "pearson_coeff = cov/(std_x*std_y)\n",
    "\n",
    "print(round(pearson_coeff, 3))"
   ]
  },
  {
   "cell_type": "code",
   "execution_count": 16,
   "metadata": {},
   "outputs": [
    {
     "name": "stdout",
     "output_type": "stream",
     "text": [
      "95 85\n",
      "85 95\n",
      "80 70\n",
      "70 65\n",
      "60 70\n",
      "78.288\n"
     ]
    }
   ],
   "source": [
    "# Question 9 : Least Square Regression Line\n",
    "\n",
    "import statistics as stats\n",
    "X = []\n",
    "Y = []\n",
    "for i in range(5):\n",
    "    x, y = map(int, input().split())\n",
    "    X.append(x)\n",
    "    Y.append(y)\n",
    "\n",
    "mean_X = stats.mean(X)\n",
    "mean_Y = stats.mean(Y)\n",
    "std_X = stats.pstdev(X)\n",
    "std_Y = stats.pstdev(Y)\n",
    "\n",
    "total = 0\n",
    "for i in range(5):\n",
    "    total+= (X[i]-mean_X)*(Y[i]-mean_Y)\n",
    "    \n",
    "cov = total/5\n",
    "p_coeff = cov/(std_X*std_Y)\n",
    "b = (p_coeff*std_Y)/std_X\n",
    "a = mean_Y - (b*mean_X)\n",
    "ans = a + b*80\n",
    "\n",
    "print(round(ans,3))"
   ]
  },
  {
   "cell_type": "code",
   "execution_count": 22,
   "metadata": {
    "scrolled": true
   },
   "outputs": [
    {
     "name": "stdout",
     "output_type": "stream",
     "text": [
      "2 7\n",
      "0.18 0.89 109.85\n",
      "1.0 0.26 155.72\n",
      "0.92 0.11 137.66\n",
      "0.07 0.37 76.17\n",
      "0.85 0.16 139.75\n",
      "0.99 0.41 162.6\n",
      "0.87 0.47 151.77\n",
      "4\n",
      "0.49 0.18\n",
      "0.57 0.83\n",
      "0.56 0.64\n",
      "0.76 0.18\n",
      "105.21\n",
      "142.67\n",
      "132.94\n",
      "129.7\n"
     ]
    }
   ],
   "source": [
    "# Question 10 : Multiple Linear Regression.\n",
    "\n",
    "import numpy as np\n",
    "\n",
    "m, n = map(int, input().split())\n",
    "\n",
    "X = []\n",
    "for i in range(n):\n",
    "    t = [1.0]\n",
    "    X.append(t)\n",
    "    \n",
    "Y = []\n",
    "for i in range(n):\n",
    "    data = input().strip().split(' ')\n",
    "    t = data[:m]\n",
    "    for j in range(m):\n",
    "        X[i].append(t[j])\n",
    "        \n",
    "    Y.append(data[m:])\n",
    "    \n",
    "query = int(input())\n",
    "X_new = []\n",
    "for x in range(query):\n",
    "    X_new.append(input().strip().split(' '))\n",
    "    X_new[x].insert(0,1.0)\n",
    "    \n",
    "X = np.array(X,float)\n",
    "Y = np.array(Y,float)\n",
    "X_new = np.array(X_new,float)\n",
    "\n",
    "beta = np.dot(np.linalg.inv(np.dot(X.T,X)), np.dot(X.T,Y) )\n",
    "\n",
    "for i in range(query):\n",
    "    t=np.dot(X_new[i], beta)\n",
    "    print(round(t[0], 2))"
   ]
  },
  {
   "cell_type": "code",
   "execution_count": null,
   "metadata": {},
   "outputs": [],
   "source": []
  }
 ],
 "metadata": {
  "kernelspec": {
   "display_name": "Python 3",
   "language": "python",
   "name": "python3"
  },
  "language_info": {
   "codemirror_mode": {
    "name": "ipython",
    "version": 3
   },
   "file_extension": ".py",
   "mimetype": "text/x-python",
   "name": "python",
   "nbconvert_exporter": "python",
   "pygments_lexer": "ipython3",
   "version": "3.8.3"
  }
 },
 "nbformat": 4,
 "nbformat_minor": 4
}
