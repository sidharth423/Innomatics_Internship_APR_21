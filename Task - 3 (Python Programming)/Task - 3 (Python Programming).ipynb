{
 "cells": [
  {
   "cell_type": "code",
   "execution_count": 29,
   "metadata": {},
   "outputs": [
    {
     "name": "stdout",
     "output_type": "stream",
     "text": [
      "-4-3i\n",
      "5.000\n",
      "-2.498\n"
     ]
    }
   ],
   "source": [
    "# Question 1 : Polar Coordinates.\n",
    "\n",
    "import cmath\n",
    "z = input()\n",
    "z = list(z)\n",
    "for i in range(1, len(z)):\n",
    "    if z[i] == '+':\n",
    "        real = int(''.join(z[0:i]))\n",
    "        imag = int(''.join(z[i+1:-1]))\n",
    "        break\n",
    "    elif z[i] == '-':\n",
    "        real = int(''.join(z[0:i]))\n",
    "        imag = int(''.join(z[i:-1]))\n",
    "        break\n",
    "\n",
    "print(\"{:.3f}\".format(abs(complex(real, imag))))\n",
    "print(\"{:.3f}\".format(cmath.phase(complex(real, imag))))"
   ]
  },
  {
   "cell_type": "code",
   "execution_count": 40,
   "metadata": {},
   "outputs": [
    {
     "name": "stdout",
     "output_type": "stream",
     "text": [
      "5\n",
      "4\n",
      "51°\n"
     ]
    }
   ],
   "source": [
    "# Question 2 : Find Angle MBC\n",
    "\n",
    "import math\n",
    "\n",
    "ab = float(input())\n",
    "bc = float(input())\n",
    "\n",
    "angle_mbc = round(math.degrees(math.atan2(ab, bc)))\n",
    "print(str(angle_mbc)+chr(176))"
   ]
  },
  {
   "cell_type": "code",
   "execution_count": 66,
   "metadata": {
    "scrolled": false
   },
   "outputs": [
    {
     "name": "stdout",
     "output_type": "stream",
     "text": [
      "1\n",
      "121\n",
      "12321\n",
      "1234321\n",
      "123454321\n",
      "12345654321\n",
      "1234567654321\n"
     ]
    }
   ],
   "source": [
    "# Question 3 : Triangle Quest 2.\n",
    "\n",
    "n = 8\n",
    "s = '123456789'\n",
    "\n",
    "for i in range(1, n):\n",
    "    print(s[0:i-1]+s[i-1::-1])"
   ]
  },
  {
   "cell_type": "code",
   "execution_count": 67,
   "metadata": {},
   "outputs": [
    {
     "name": "stdout",
     "output_type": "stream",
     "text": [
      "16\n",
      "3\n",
      "5\n",
      "1\n",
      "(5, 1)\n"
     ]
    }
   ],
   "source": [
    "# Question 4 : Mod Divmod\n",
    "\n",
    "a = int(input())\n",
    "b = int(input())\n",
    "print(a//b)\n",
    "print(a%b)\n",
    "print(divmod(a, b))"
   ]
  },
  {
   "cell_type": "code",
   "execution_count": 73,
   "metadata": {},
   "outputs": [
    {
     "name": "stdout",
     "output_type": "stream",
     "text": [
      "6\n",
      "2\n",
      "7\n",
      "36\n",
      "1\n"
     ]
    }
   ],
   "source": [
    "# Question 5 : Power - Mod Power\n",
    "\n",
    "a = int(input())\n",
    "b = int(input())\n",
    "m = int(input())\n",
    "print(pow(a, b))\n",
    "print(pow(a, b, m))"
   ]
  },
  {
   "cell_type": "code",
   "execution_count": 78,
   "metadata": {},
   "outputs": [
    {
     "name": "stdout",
     "output_type": "stream",
     "text": [
      "10\n",
      "4\n",
      "15\n",
      "5\n",
      "769375\n"
     ]
    }
   ],
   "source": [
    "# Question 6 : Intergers Come In All Sizes\n",
    "\n",
    "a = int(input())\n",
    "b = int(input())\n",
    "c = int(input())\n",
    "d = int(input())\n",
    "\n",
    "print(a**b + c**d)"
   ]
  },
  {
   "cell_type": "code",
   "execution_count": 86,
   "metadata": {},
   "outputs": [
    {
     "name": "stdout",
     "output_type": "stream",
     "text": [
      "9\n",
      "1\n",
      "22\n",
      "333\n",
      "4444\n",
      "55555\n",
      "666666\n",
      "7777777\n",
      "88888888\n"
     ]
    }
   ],
   "source": [
    "# Question 7 : Triangle Quest\n",
    "\n",
    "for i in range(1, int(input())):\n",
    "    print(i *((10**i)-1)//9)"
   ]
  },
  {
   "cell_type": "code",
   "execution_count": null,
   "metadata": {},
   "outputs": [],
   "source": []
  }
 ],
 "metadata": {
  "kernelspec": {
   "display_name": "Python 3",
   "language": "python",
   "name": "python3"
  },
  "language_info": {
   "codemirror_mode": {
    "name": "ipython",
    "version": 3
   },
   "file_extension": ".py",
   "mimetype": "text/x-python",
   "name": "python",
   "nbconvert_exporter": "python",
   "pygments_lexer": "ipython3",
   "version": "3.8.3"
  }
 },
 "nbformat": 4,
 "nbformat_minor": 4
}
