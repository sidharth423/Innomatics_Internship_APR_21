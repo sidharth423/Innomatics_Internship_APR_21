{
 "cells": [
  {
   "cell_type": "code",
   "execution_count": 1,
   "metadata": {},
   "outputs": [
    {
     "name": "stdout",
     "output_type": "stream",
     "text": [
      "sIdHaRtH KuMaR\n",
      "SiDhArTh kUmAr\n"
     ]
    }
   ],
   "source": [
    "# Question 1 : Swap Case.\n",
    "\n",
    "def swap_case(s):\n",
    "    s1 = s.swapcase()\n",
    "    return s1\n",
    "\n",
    "if __name__ == '__main__':\n",
    "    s = input()\n",
    "    result = swap_case(s)\n",
    "    print(result)"
   ]
  },
  {
   "cell_type": "code",
   "execution_count": 2,
   "metadata": {},
   "outputs": [
    {
     "name": "stdout",
     "output_type": "stream",
     "text": [
      "Hello I am Sidharth\n",
      "Hello-I-am-Sidharth\n"
     ]
    }
   ],
   "source": [
    "# Question 2 : String split and join.\n",
    "\n",
    "def split_and_join(line):\n",
    "    words = line.split(' ')\n",
    "    new_line = '-'.join(words)\n",
    "    return new_line\n",
    "\n",
    "if __name__ == '__main__':\n",
    "    line = input()\n",
    "    result = split_and_join(line)\n",
    "    print(result)"
   ]
  },
  {
   "cell_type": "code",
   "execution_count": 4,
   "metadata": {},
   "outputs": [
    {
     "name": "stdout",
     "output_type": "stream",
     "text": [
      "sidharth\n",
      "kumar\n",
      "Hello sidharth kumar! You just delved into python.\n"
     ]
    }
   ],
   "source": [
    "# Question 3 : What's your name. \n",
    "\n",
    "def print_full_name(first, last):\n",
    "    print(f\"Hello {first} {last}! You just delved into python.\")\n",
    "\n",
    "if __name__ == '__main__':\n",
    "    first_name = input()\n",
    "    last_name = input()\n",
    "    print_full_name(first_name, last_name)"
   ]
  },
  {
   "cell_type": "code",
   "execution_count": 5,
   "metadata": {},
   "outputs": [
    {
     "name": "stdout",
     "output_type": "stream",
     "text": [
      "sidhadth\n",
      "5 r\n",
      "sidharth\n"
     ]
    }
   ],
   "source": [
    "# Question 4 : Mutations.\n",
    "\n",
    "def mutate_string(string, position, character):\n",
    "    return string[:position] + character + string[position+1:] \n",
    "\n",
    "if __name__ == '__main__':\n",
    "    s = input()\n",
    "    i, c = input().split()\n",
    "    s_new = mutate_string(s, int(i), c)\n",
    "    print(s_new)"
   ]
  },
  {
   "cell_type": "code",
   "execution_count": 6,
   "metadata": {},
   "outputs": [
    {
     "name": "stdout",
     "output_type": "stream",
     "text": [
      "abcbcabcd\n",
      "bc\n",
      "3\n"
     ]
    }
   ],
   "source": [
    "# Question 5 : Find a String.\n",
    "\n",
    "def count_substring(string, sub_string):\n",
    "    count = 0\n",
    "    for i in range(len(string)-len(sub_string)+1):\n",
    "        if string[i:i+len(sub_string)] == sub_string:\n",
    "            count+=1\n",
    "    return count\n",
    "\n",
    "if __name__ == '__main__':\n",
    "    string = input().strip()\n",
    "    sub_string = input().strip()\n",
    "    \n",
    "    count = count_substring(string, sub_string)\n",
    "    print(count)"
   ]
  },
  {
   "cell_type": "code",
   "execution_count": 10,
   "metadata": {},
   "outputs": [
    {
     "name": "stdout",
     "output_type": "stream",
     "text": [
      "sid123\n",
      "True\n",
      "True\n",
      "True\n",
      "True\n",
      "False\n"
     ]
    }
   ],
   "source": [
    "# Question 6 : String Validators.\n",
    "\n",
    "if __name__ == '__main__':\n",
    "    s = input()\n",
    "    print(any(i.isalnum() for i in s))\n",
    "    print(any(i.isalpha() for i in s))\n",
    "    print(any(i.isdigit() for i in s))\n",
    "    print(any(i.islower() for i in s))\n",
    "    print(any(i.isupper() for i in s))"
   ]
  },
  {
   "cell_type": "code",
   "execution_count": 11,
   "metadata": {},
   "outputs": [
    {
     "name": "stdout",
     "output_type": "stream",
     "text": [
      "5\n",
      "    H    \n",
      "   HHH   \n",
      "  HHHHH  \n",
      " HHHHHHH \n",
      "HHHHHHHHH\n",
      "  HHHHH               HHHHH             \n",
      "  HHHHH               HHHHH             \n",
      "  HHHHH               HHHHH             \n",
      "  HHHHH               HHHHH             \n",
      "  HHHHH               HHHHH             \n",
      "  HHHHH               HHHHH             \n",
      "  HHHHHHHHHHHHHHHHHHHHHHHHH   \n",
      "  HHHHHHHHHHHHHHHHHHHHHHHHH   \n",
      "  HHHHHHHHHHHHHHHHHHHHHHHHH   \n",
      "  HHHHH               HHHHH             \n",
      "  HHHHH               HHHHH             \n",
      "  HHHHH               HHHHH             \n",
      "  HHHHH               HHHHH             \n",
      "  HHHHH               HHHHH             \n",
      "  HHHHH               HHHHH             \n",
      "                    HHHHHHHHH \n",
      "                     HHHHHHH  \n",
      "                      HHHHH   \n",
      "                       HHH    \n",
      "                        H     \n"
     ]
    }
   ],
   "source": [
    "# Question 7 : Text Alignment.\n",
    "\n",
    "thickness = int(input()) \n",
    "c = 'H'\n",
    "\n",
    "#Top Cone\n",
    "for i in range(thickness):\n",
    "    print((c*i).rjust(thickness-1)+c+(c*i).ljust(thickness-1))\n",
    "\n",
    "#Top Pillars\n",
    "for i in range(thickness+1):\n",
    "    print((c*thickness).center(thickness*2)+(c*thickness).center(thickness*6))\n",
    "\n",
    "#Middle Belt\n",
    "for i in range((thickness+1)//2):\n",
    "    print((c*thickness*5).center(thickness*6))    \n",
    "\n",
    "#Bottom Pillars\n",
    "for i in range(thickness+1):\n",
    "    print((c*thickness).center(thickness*2)+(c*thickness).center(thickness*6))    \n",
    "\n",
    "#Bottom Cone\n",
    "for i in range(thickness):\n",
    "    print(((c*(thickness-i-1)).rjust(thickness)+c+(c*(thickness-i-1)).ljust(thickness)).rjust(thickness*6))"
   ]
  },
  {
   "cell_type": "code",
   "execution_count": 14,
   "metadata": {},
   "outputs": [
    {
     "name": "stdout",
     "output_type": "stream",
     "text": [
      "abcdefghijklmnopqrstuvwxyz\n",
      "4\n",
      "abcd\n",
      "efgh\n",
      "ijkl\n",
      "mnop\n",
      "qrst\n",
      "uvwx\n",
      "yz\n"
     ]
    }
   ],
   "source": [
    "# Question 8 : Text Wrap.\n",
    "\n",
    "import textwrap\n",
    "\n",
    "def wrap(string, max_width):\n",
    "    return textwrap.fill(string, max_width)\n",
    "\n",
    "if __name__ == '__main__':\n",
    "    string, max_width = input(), int(input())\n",
    "    result = wrap(string, max_width)\n",
    "    print(result)"
   ]
  },
  {
   "cell_type": "code",
   "execution_count": 46,
   "metadata": {},
   "outputs": [
    {
     "name": "stdout",
     "output_type": "stream",
     "text": [
      "18\n",
      "    1     1     1     1\n",
      "    2     2     2    10\n",
      "    3     3     3    11\n",
      "    4     4     4   100\n",
      "    5     5     5   101\n",
      "    6     6     6   110\n",
      "    7     7     7   111\n",
      "    8    10     8  1000\n",
      "    9    11     9  1001\n",
      "   10    12     A  1010\n",
      "   11    13     B  1011\n",
      "   12    14     C  1100\n",
      "   13    15     D  1101\n",
      "   14    16     E  1110\n",
      "   15    17     F  1111\n",
      "   16    20    10 10000\n",
      "   17    21    11 10001\n",
      "   18    22    12 10010\n"
     ]
    }
   ],
   "source": [
    "# Question 9 : String Formatting.\n",
    "\n",
    "def print_formatted(n):\n",
    "    space = len(str(bin(n)[2:]))\n",
    "    for i in range(1, n+1):\n",
    "        print(str(i).rjust(space, ' '), str(oct(i)[2:]).rjust(space, ' '), str(hex(i)[2:].upper()).rjust(space, ' '), str(bin(i)[2:]).rjust(space, ' '))\n",
    "        \n",
    "\n",
    "if __name__ == '__main__':\n",
    "    n = int(input())\n",
    "    print_formatted(n)"
   ]
  },
  {
   "cell_type": "code",
   "execution_count": 47,
   "metadata": {},
   "outputs": [
    {
     "name": "stdout",
     "output_type": "stream",
     "text": [
      "6\n",
      "----------f----------\n",
      "--------f-e-f--------\n",
      "------f-e-d-e-f------\n",
      "----f-e-d-c-d-e-f----\n",
      "--f-e-d-c-b-c-d-e-f--\n",
      "f-e-d-c-b-a-b-c-d-e-f\n",
      "--f-e-d-c-b-c-d-e-f--\n",
      "----f-e-d-c-d-e-f----\n",
      "------f-e-d-e-f------\n",
      "--------f-e-f--------\n",
      "----------f----------\n"
     ]
    }
   ],
   "source": [
    "# Question 10 : Alphabet Rangoli.\n",
    "\n",
    "import string\n",
    "alpha = string.ascii_lowercase\n",
    "\n",
    "n = int(input())\n",
    "L = []\n",
    "for i in range(n):\n",
    "    s = \"-\".join(alpha[i:n])\n",
    "    L.append((s[::-1]+s[1:]).center(4*n-3, \"-\"))\n",
    "print('\\n'.join(L[:0:-1]+L))"
   ]
  },
  {
   "cell_type": "code",
   "execution_count": 51,
   "metadata": {},
   "outputs": [
    {
     "name": "stdout",
     "output_type": "stream",
     "text": [
      "sidharth kumar\n",
      "Sidharth Kumar\n"
     ]
    }
   ],
   "source": [
    "# Question 11 : Capitalize.\n",
    "\n",
    "import string\n",
    "word = input()\n",
    "print(string.capwords(word, ' '))"
   ]
  },
  {
   "cell_type": "code",
   "execution_count": 55,
   "metadata": {},
   "outputs": [
    {
     "name": "stdout",
     "output_type": "stream",
     "text": [
      "BANANA\n",
      "Stuart 12\n"
     ]
    }
   ],
   "source": [
    "# Question 12 : The Minion Game.\n",
    "\n",
    "def minion_game(string):\n",
    "    vowel = 'AEIOU'\n",
    "    stuart, kevin = 0, 0\n",
    "    for i in range(0, len(string)):\n",
    "        if string[i] not in vowel:\n",
    "            stuart+=len(string)-i\n",
    "        else:\n",
    "            kevin+=len(string)-i\n",
    "    \n",
    "    if stuart>kevin:\n",
    "        print('Stuart', stuart)\n",
    "    elif kevin>stuart:\n",
    "        print('Kevin', kevin)\n",
    "    else:\n",
    "        print('Draw')\n",
    "\n",
    "if __name__ == '__main__':\n",
    "    s = input()\n",
    "    minion_game(s)"
   ]
  },
  {
   "cell_type": "code",
   "execution_count": 57,
   "metadata": {},
   "outputs": [
    {
     "name": "stdout",
     "output_type": "stream",
     "text": [
      "AABBCCDDEFECKKJ\n",
      "3\n",
      "AB\n",
      "BC\n",
      "DE\n",
      "FEC\n",
      "KJ\n"
     ]
    }
   ],
   "source": [
    "# Question 13: Merge the Tools.\n",
    "\n",
    "def unique_chars(word):\n",
    "    s1 = ''\n",
    "    for i in range(0, len(word)):\n",
    "        if word[i] in s1:\n",
    "            pass\n",
    "        else:\n",
    "            s1 = s1 + word[i]\n",
    "    return s1\n",
    "\n",
    "def merge_the_tools(string, k):\n",
    "    n = len(string)//k\n",
    "    for i in range(0, n):\n",
    "        word = string[k*i:k*(i+1)]\n",
    "        print(unique_chars(word))\n",
    "\n",
    "if __name__ == '__main__':\n",
    "    string, k = input(), int(input())\n",
    "    merge_the_tools(string, k)"
   ]
  },
  {
   "cell_type": "code",
   "execution_count": null,
   "metadata": {},
   "outputs": [],
   "source": []
  }
 ],
 "metadata": {
  "kernelspec": {
   "display_name": "Python 3",
   "language": "python",
   "name": "python3"
  },
  "language_info": {
   "codemirror_mode": {
    "name": "ipython",
    "version": 3
   },
   "file_extension": ".py",
   "mimetype": "text/x-python",
   "name": "python",
   "nbconvert_exporter": "python",
   "pygments_lexer": "ipython3",
   "version": "3.8.3"
  }
 },
 "nbformat": 4,
 "nbformat_minor": 4
}
