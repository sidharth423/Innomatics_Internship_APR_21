{
 "cells": [
  {
   "cell_type": "code",
   "execution_count": 9,
   "metadata": {},
   "outputs": [
    {
     "name": "stdout",
     "output_type": "stream",
     "text": [
      "1 7 -6 85 7 3 9 -7\n",
      "[-7.  9.  3.  7. 85. -6.  7.  1.]\n"
     ]
    }
   ],
   "source": [
    "# Question 1: Arrays.\n",
    "\n",
    "import numpy\n",
    "\n",
    "def arrays(arr):\n",
    "    my_arr = numpy.array(arr, float)\n",
    "    return my_arr[::-1]\n",
    "\n",
    "arr = input().strip().split(' ')\n",
    "result = arrays(arr)\n",
    "print(result)"
   ]
  },
  {
   "cell_type": "code",
   "execution_count": 5,
   "metadata": {},
   "outputs": [
    {
     "name": "stdout",
     "output_type": "stream",
     "text": [
      "1 2 3 4 5 6 7 8 9\n",
      "[[1 2 3]\n",
      " [4 5 6]\n",
      " [7 8 9]]\n"
     ]
    }
   ],
   "source": [
    "# Question 2: Shape and Reshape.\n",
    "\n",
    "import numpy as np\n",
    "\n",
    "list1 = list(map(int, input().split()))\n",
    "arr = np.array(list1)\n",
    "print(arr.reshape(3, 3))"
   ]
  },
  {
   "cell_type": "code",
   "execution_count": 14,
   "metadata": {},
   "outputs": [
    {
     "name": "stdout",
     "output_type": "stream",
     "text": [
      "2 4\n",
      "1 2 3 4\n",
      "5 6 7 8\n",
      "[[1 5]\n",
      " [2 6]\n",
      " [3 7]\n",
      " [4 8]]\n",
      "[1 2 3 4 5 6 7 8]\n"
     ]
    }
   ],
   "source": [
    "# Question 3 : Transpose and Flatten\n",
    "\n",
    "import numpy as np\n",
    "\n",
    "n, m = map(int, input().split())\n",
    "arr = []\n",
    "for i in range(n):\n",
    "    x = []\n",
    "    x = list(map(int, input().split()))\n",
    "    arr.append(x)\n",
    "    \n",
    "my_arr = np.array(arr)\n",
    "print(my_arr.T)\n",
    "print(my_arr.flatten())"
   ]
  },
  {
   "cell_type": "code",
   "execution_count": 33,
   "metadata": {},
   "outputs": [
    {
     "name": "stdout",
     "output_type": "stream",
     "text": [
      "2 3 2\n",
      "1 2\n",
      "4 5\n",
      "7 8\n",
      "9 6\n",
      "3 5\n",
      "[[1 2]\n",
      " [4 5]\n",
      " [7 8]\n",
      " [9 6]\n",
      " [3 5]]\n"
     ]
    }
   ],
   "source": [
    "# Question 4 : Concatenate.\n",
    "\n",
    "import numpy as np\n",
    "\n",
    "n, m, p = map(int, input().split())\n",
    "\n",
    "list_N, list_M = [], []\n",
    "\n",
    "for i in range(0, n):\n",
    "    x = []\n",
    "    x = list(map(int, input().split()))\n",
    "    list_N.append(x)\n",
    "array_N = np.array(list_N)\n",
    "\n",
    "for j in range(0, m):\n",
    "    x = []\n",
    "    x = list(map(int, input().split()))\n",
    "    list_M.append(x)\n",
    "array_M = np.array(list_M)\n",
    "\n",
    "print(np.concatenate((array_N, array_M), axis = 0))"
   ]
  },
  {
   "cell_type": "code",
   "execution_count": 51,
   "metadata": {},
   "outputs": [
    {
     "name": "stdout",
     "output_type": "stream",
     "text": [
      "3 3 3\n",
      "[[[0 0 0]\n",
      "  [0 0 0]\n",
      "  [0 0 0]]\n",
      "\n",
      " [[0 0 0]\n",
      "  [0 0 0]\n",
      "  [0 0 0]]\n",
      "\n",
      " [[0 0 0]\n",
      "  [0 0 0]\n",
      "  [0 0 0]]]\n",
      "[[[1 1 1]\n",
      "  [1 1 1]\n",
      "  [1 1 1]]\n",
      "\n",
      " [[1 1 1]\n",
      "  [1 1 1]\n",
      "  [1 1 1]]\n",
      "\n",
      " [[1 1 1]\n",
      "  [1 1 1]\n",
      "  [1 1 1]]]\n"
     ]
    }
   ],
   "source": [
    "# Question 5 : Zeros and Ones\n",
    "\n",
    "import numpy as np\n",
    "\n",
    "x = tuple(map(int, input().split()))\n",
    "print(np.zeros(x, dtype = np.int))\n",
    "print(np.ones(x, dtype = np.int))"
   ]
  },
  {
   "cell_type": "code",
   "execution_count": 4,
   "metadata": {},
   "outputs": [
    {
     "name": "stdout",
     "output_type": "stream",
     "text": [
      "4 4\n",
      "[[ 1.  0.  0.  0.]\n",
      " [ 0.  1.  0.  0.]\n",
      " [ 0.  0.  1.  0.]\n",
      " [ 0.  0.  0.  1.]]\n"
     ]
    }
   ],
   "source": [
    "# Question 6 : Eye and Identity.\n",
    "\n",
    "import numpy as np\n",
    "\n",
    "n, m = map(int, input().split())\n",
    "np.set_printoptions(sign=' ')\n",
    "print(np.eye(n, m, 0))"
   ]
  },
  {
   "cell_type": "code",
   "execution_count": 9,
   "metadata": {},
   "outputs": [
    {
     "name": "stdout",
     "output_type": "stream",
     "text": [
      "1 3\n",
      "1 2 3\n",
      "4 5 6\n",
      "[[5 7 9]]\n",
      "[[-3 -3 -3]]\n",
      "[[ 4 10 18]]\n",
      "[[0 0 0]]\n",
      "[[1 2 3]]\n",
      "[[  1  32 729]]\n"
     ]
    }
   ],
   "source": [
    "# Question 7 : Array Mathematics.\n",
    "\n",
    "import numpy as np\n",
    "\n",
    "n, m = map(int, input().split())\n",
    "\n",
    "arr1, arr2 = [], []\n",
    "for i in range(0, n):\n",
    "    x = []\n",
    "    x = list(map(int, input().split()))\n",
    "    arr1.append(x)\n",
    "ar1 = np.array(arr1)\n",
    "\n",
    "for i in range(0, n):\n",
    "    x = []\n",
    "    x = list(map(int, input().split()))\n",
    "    arr2.append(x)\n",
    "ar2 = np.array(arr2)\n",
    "\n",
    "print(ar1+ar2)\n",
    "print(ar1-ar2)\n",
    "print(ar1*ar2)\n",
    "print(ar1//ar2)\n",
    "print(ar1%ar2)\n",
    "print(ar1**ar2)"
   ]
  },
  {
   "cell_type": "code",
   "execution_count": 13,
   "metadata": {},
   "outputs": [
    {
     "name": "stdout",
     "output_type": "stream",
     "text": [
      "1.0 1.1 1.2 1.3 1.4 1.5 1.6 2.8 2.7 2\n",
      "[ 1.  1.  1.  1.  1.  1.  1.  2.  2.  2.]\n",
      "[ 1.  2.  2.  2.  2.  2.  2.  3.  3.  2.]\n",
      "[ 1.  1.  1.  1.  1.  2.  2.  3.  3.  2.]\n"
     ]
    }
   ],
   "source": [
    "# Question 8 : Floor, Ceil and Rint\n",
    "\n",
    "import numpy as np\n",
    "\n",
    "np.set_printoptions(legacy = '1.13')\n",
    "arr1 = np.array(list(map(float, input().split())))\n",
    "\n",
    "print(np.floor(arr1))\n",
    "print(np.ceil(arr1))\n",
    "print(np.rint(arr1))"
   ]
  },
  {
   "cell_type": "code",
   "execution_count": 17,
   "metadata": {},
   "outputs": [
    {
     "name": "stdout",
     "output_type": "stream",
     "text": [
      "2 2\n",
      "2 3\n",
      "3 7\n",
      "50\n"
     ]
    }
   ],
   "source": [
    "# Question 9 : Sum and Prod\n",
    "\n",
    "import numpy as np\n",
    "\n",
    "n, m = map(int, input().split())\n",
    "list1 = []\n",
    "\n",
    "for i in range(0, n):\n",
    "    x = []\n",
    "    x = list(map(int, input().split()))\n",
    "    list1.append(x)\n",
    "\n",
    "arr1 = np.array(list1)\n",
    "sum_along_0_axis = np.sum(arr1, axis = 0)\n",
    "print(np.prod(sum_along_0_axis))"
   ]
  },
  {
   "cell_type": "code",
   "execution_count": 20,
   "metadata": {},
   "outputs": [
    {
     "name": "stdout",
     "output_type": "stream",
     "text": [
      "3 3\n",
      "1 2 3\n",
      "4 5 6\n",
      "7 8 9\n",
      "7\n"
     ]
    }
   ],
   "source": [
    "# Question 10 : Min and Max\n",
    "\n",
    "import numpy as np\n",
    "\n",
    "n, m = map(int, input().split())\n",
    "list1 = []\n",
    "for i in range(0, n):\n",
    "    x = []\n",
    "    x = list(map(int, input().split()))\n",
    "    list1.append(x)\n",
    "arr = np.array(list1)\n",
    "min_arr = arr.min(axis = 1)\n",
    "print(min_arr.max())"
   ]
  },
  {
   "cell_type": "code",
   "execution_count": 30,
   "metadata": {},
   "outputs": [
    {
     "name": "stdout",
     "output_type": "stream",
     "text": [
      "2 3\n",
      "1 2 3\n",
      "1 4 1\n",
      "[ 2.  2.]\n",
      "[ 0.  1.  1.]\n",
      "1.15470053838\n"
     ]
    }
   ],
   "source": [
    "# Question 11 : Mean, Var and Std.\n",
    "\n",
    "import numpy as np\n",
    "\n",
    "n, m = map(int, input().split())\n",
    "\n",
    "list1 = []\n",
    "\n",
    "for i in range(0, n):\n",
    "    x = []\n",
    "    x = list(map(int, input().split()))\n",
    "    list1.append(x)\n",
    " \n",
    "arr = np.array(list1)\n",
    "print(np.mean(arr, axis = 1))\n",
    "print(np.var(arr, axis = 0))\n",
    "print(\"{:.11f}\".format(np.std(arr, axis = None)))"
   ]
  },
  {
   "cell_type": "code",
   "execution_count": 32,
   "metadata": {},
   "outputs": [
    {
     "name": "stdout",
     "output_type": "stream",
     "text": [
      "2\n",
      "1 2\n",
      "2 3\n",
      "4 5\n",
      "2 1\n",
      "[[ 8  7]\n",
      " [14 13]]\n"
     ]
    }
   ],
   "source": [
    "# Question 12 : Dot and Cross. \n",
    "\n",
    "import numpy as np\n",
    "\n",
    "n = int(input())\n",
    "a = []\n",
    "for i in range(0, n):\n",
    "    x = list(map(int, input().split()))\n",
    "    a.append(x)\n",
    "A = np.array(a)\n",
    "\n",
    "b = []\n",
    "for i in range(0, n):\n",
    "    x = list(map(int, input().split()))\n",
    "    b.append(x)\n",
    "B = np.array(b)\n",
    "\n",
    "print(np.dot(A, B))"
   ]
  },
  {
   "cell_type": "code",
   "execution_count": 33,
   "metadata": {},
   "outputs": [
    {
     "name": "stdout",
     "output_type": "stream",
     "text": [
      "2 3\n",
      "4 5\n",
      "23\n",
      "[[ 8 10]\n",
      " [12 15]]\n"
     ]
    }
   ],
   "source": [
    "# Question 13 : Inner and Outer\n",
    "\n",
    "import numpy as np\n",
    "\n",
    "A = np.array(list(map(int, input().split())))\n",
    "B = np.array(list(map(int, input().split())))\n",
    "print(np.inner(A, B))\n",
    "print(np.outer(A, B))"
   ]
  },
  {
   "cell_type": "code",
   "execution_count": 35,
   "metadata": {},
   "outputs": [
    {
     "name": "stdout",
     "output_type": "stream",
     "text": [
      "1.1 2 3\n",
      "0\n",
      "3.0\n"
     ]
    }
   ],
   "source": [
    "# Question 14 : Polynomials \n",
    "\n",
    "import numpy as np\n",
    "P = np.array(list(map(float, input().split())))\n",
    "x = int(input())\n",
    "print(np.polyval(P, x))"
   ]
  },
  {
   "cell_type": "code",
   "execution_count": 43,
   "metadata": {},
   "outputs": [
    {
     "name": "stdout",
     "output_type": "stream",
     "text": [
      "3\n",
      "1 2 3\n",
      "4 5 6\n",
      "1 2 1\n",
      "6.0\n"
     ]
    }
   ],
   "source": [
    "# Question 15 : Linear Algebra\n",
    "\n",
    "import numpy as np\n",
    "\n",
    "n = int(input())\n",
    "a = []\n",
    "for i in range(0, n):\n",
    "    x = list(map(float, input().split()))\n",
    "    a.append(x)\n",
    "    \n",
    "arr = np.array(a)\n",
    "x = \"{:.2f}\".format(np.linalg.det(arr))\n",
    "\n",
    "if float(x) == round(float(x)):\n",
    "    print(float(x))\n",
    "else:\n",
    "    print(x)"
   ]
  },
  {
   "cell_type": "code",
   "execution_count": null,
   "metadata": {},
   "outputs": [],
   "source": []
  }
 ],
 "metadata": {
  "kernelspec": {
   "display_name": "Python 3",
   "language": "python",
   "name": "python3"
  },
  "language_info": {
   "codemirror_mode": {
    "name": "ipython",
    "version": 3
   },
   "file_extension": ".py",
   "mimetype": "text/x-python",
   "name": "python",
   "nbconvert_exporter": "python",
   "pygments_lexer": "ipython3",
   "version": "3.8.3"
  }
 },
 "nbformat": 4,
 "nbformat_minor": 4
}
