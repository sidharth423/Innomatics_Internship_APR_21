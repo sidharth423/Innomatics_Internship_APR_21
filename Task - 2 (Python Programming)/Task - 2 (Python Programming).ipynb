{
 "cells": [
  {
   "cell_type": "code",
   "execution_count": 5,
   "metadata": {},
   "outputs": [
    {
     "name": "stdout",
     "output_type": "stream",
     "text": [
      "1\n",
      "1\n",
      "1\n",
      "2\n",
      "[[0, 0, 0], [0, 0, 1], [0, 1, 0], [1, 0, 0], [1, 1, 1]]\n"
     ]
    }
   ],
   "source": [
    "# Question 1 : List Comprehensions.\n",
    "\n",
    "if __name__ == '__main__':\n",
    "    x = int(input())\n",
    "    y = int(input())\n",
    "    z = int(input())\n",
    "    n = int(input())\n",
    "    L = []\n",
    "    for i in range(0, x+1):\n",
    "        for j in range(0, y+1):\n",
    "            for k in range(0, z+1):\n",
    "                if i+j+k!=n:\n",
    "                    L.append([i, j, k])       \n",
    "                \n",
    "    print(L)"
   ]
  },
  {
   "cell_type": "code",
   "execution_count": 12,
   "metadata": {},
   "outputs": [
    {
     "name": "stdout",
     "output_type": "stream",
     "text": [
      "5\n",
      "8 9 9 7 5\n",
      "8\n"
     ]
    }
   ],
   "source": [
    "# Question 2 : Find the Runner up Score!\n",
    "\n",
    "if __name__ == '__main__':\n",
    "    n = int(input())\n",
    "    score = map(int, input().split())\n",
    "    s = list(set(score))\n",
    "    s.sort()\n",
    "    s.pop()\n",
    "    print(s[-1])"
   ]
  },
  {
   "cell_type": "code",
   "execution_count": 28,
   "metadata": {},
   "outputs": [
    {
     "name": "stdout",
     "output_type": "stream",
     "text": [
      "5\n",
      "A\n",
      "10.25\n",
      "C\n",
      "15.16\n",
      "F\n",
      "10.25\n",
      "D\n",
      "9.5\n",
      "Y\n",
      "14.6\n",
      "A\n",
      "F\n"
     ]
    }
   ],
   "source": [
    "# Qeustion 3 : Nested Lists.\n",
    "\n",
    "def name_sort(list1):\n",
    "    return list1[0]\n",
    "\n",
    "def marks_sort(list1):\n",
    "    return list1[1]\n",
    "\n",
    "n = int(input())\n",
    "list1 = []\n",
    "for i in range(n):\n",
    "    name = input()\n",
    "    marks = float(input())\n",
    "    list1.append([name, marks])\n",
    "list1.sort(key = name_sort)\n",
    "list1.sort(key = marks_sort)\n",
    "least_marks = list1[0][1]\n",
    "list1.remove(list1[0])\n",
    "\n",
    "while True:\n",
    "    if list1[0][1] == least_marks:\n",
    "        list1.remove(list1[0])\n",
    "    else:\n",
    "        break\n",
    "        \n",
    "second_least = list1[0][1]\n",
    "for i in range(0, len(list1)):\n",
    "    if list1[i][1] == second_least:\n",
    "        print(list1[i][0])\n",
    "    else:\n",
    "        break"
   ]
  },
  {
   "cell_type": "code",
   "execution_count": 39,
   "metadata": {},
   "outputs": [
    {
     "name": "stdout",
     "output_type": "stream",
     "text": [
      "3\n",
      "A 10 10 7\n",
      "B 10 5 9\n",
      "C 10 7 6\n",
      "B\n",
      "8.00\n"
     ]
    }
   ],
   "source": [
    "# Question 4 : Finding the percentage.\n",
    "\n",
    "n = int(input())\n",
    "record = []\n",
    "for i in range(0, n):\n",
    "    name, x, y, z = input().split()\n",
    "    record.append([name, x, y, z])\n",
    "query = input()\n",
    "\n",
    "for i in range(0, n):\n",
    "    if record[i][0] == query:\n",
    "        average = (float(record[i][1]) + float(record[i][2]) + float(record[i][3]))/3\n",
    "        print(\"{:.2f}\".format(average))\n",
    "        break"
   ]
  },
  {
   "cell_type": "code",
   "execution_count": 2,
   "metadata": {},
   "outputs": [
    {
     "name": "stdout",
     "output_type": "stream",
     "text": [
      "7\n",
      "append 5\n",
      "insert 0 2\n",
      "insert 1 10\n",
      "print\n",
      "[2, 10, 5]\n",
      "pop\n",
      "sort\n",
      "print\n",
      "[2, 10]\n"
     ]
    }
   ],
   "source": [
    "# Question 5 : Lists.\n",
    "\n",
    "n = int(input())\n",
    "L = []\n",
    "for i in range(n):\n",
    "    x = input().split(' ')\n",
    "    command = x[0]\n",
    "    if command == \"insert\":\n",
    "        L.insert(int(x[1]), int(x[2]))\n",
    "    elif command == \"remove\":\n",
    "        L.remove(int(x[1]))\n",
    "    elif command==\"append\":\n",
    "        L.append(int(x[1]))\n",
    "    elif command==\"sort\":\n",
    "        L.sort()\n",
    "    elif command==\"pop\":\n",
    "        L.pop()\n",
    "    elif command==\"reverse\":\n",
    "        L.reverse()\n",
    "    elif command==\"print\":\n",
    "        print(L)"
   ]
  },
  {
   "cell_type": "code",
   "execution_count": 40,
   "metadata": {},
   "outputs": [
    {
     "name": "stdout",
     "output_type": "stream",
     "text": [
      "2\n",
      "1 2\n",
      "-3550055125485641917\n"
     ]
    }
   ],
   "source": [
    "# Question 6 : Tuples.\n",
    "\n",
    "n = int(input())\n",
    "T = tuple(map(int, input().split()))\n",
    "print(hash(T))"
   ]
  },
  {
   "cell_type": "code",
   "execution_count": 45,
   "metadata": {},
   "outputs": [
    {
     "name": "stdout",
     "output_type": "stream",
     "text": [
      "5\n",
      "1 2 3 4 4\n",
      "2.500\n"
     ]
    }
   ],
   "source": [
    "# Question 7 : Introduction to Sets\n",
    "\n",
    "def average(array):\n",
    "    a = set(array)\n",
    "    return \"{:.3f}\".format(sum(a)/len(a))\n",
    "\n",
    "if __name__ == '__main__':\n",
    "    n = int(input())\n",
    "    arr = list(map(int, input().split()))\n",
    "    result = average(arr)\n",
    "    print(result)"
   ]
  },
  {
   "cell_type": "code",
   "execution_count": 147,
   "metadata": {},
   "outputs": [
    {
     "name": "stdout",
     "output_type": "stream",
     "text": [
      "5 3\n",
      "1 2 3 4 5\n",
      "2 5 6\n",
      "2 7 9\n",
      "2\n"
     ]
    }
   ],
   "source": [
    "# Question 8 : No Idea!\n",
    "\n",
    "n, m = input().split()\n",
    "arr = list(map(int, input().split()[:int(n)]))\n",
    "happiness = set(map(int,  input().split()[:int(m)]))\n",
    "sadness = set(map(int, input().split()[:int(m)]))\n",
    "mood = 0\n",
    "for i in range(0, int(n)):\n",
    "    if arr[i] in happiness:\n",
    "        mood+=1\n",
    "    elif arr[i] in sadness:\n",
    "        mood-=1\n",
    "    else:\n",
    "        pass\n",
    "print(mood)"
   ]
  },
  {
   "cell_type": "code",
   "execution_count": 59,
   "metadata": {},
   "outputs": [
    {
     "name": "stdout",
     "output_type": "stream",
     "text": [
      "4\n",
      "2 3 4 5\n",
      "4\n",
      "2 4 11 21\n",
      "3\n",
      "5\n",
      "11\n",
      "21\n"
     ]
    }
   ],
   "source": [
    "# Question 9 : Symmetric Difference\n",
    "\n",
    "M = int(input())\n",
    "set_m = set(map(int, input().split()))\n",
    "N = int(input())\n",
    "set_n = set(map(int, input().split()))\n",
    "a = set_m.difference(set_n)\n",
    "b = set_n.difference(set_m)\n",
    "x = list(a.union(b))\n",
    "x.sort()\n",
    "for i in x:\n",
    "    print(i)"
   ]
  },
  {
   "cell_type": "code",
   "execution_count": 60,
   "metadata": {},
   "outputs": [
    {
     "name": "stdout",
     "output_type": "stream",
     "text": [
      "5\n",
      "india\n",
      "australia\n",
      "japan\n",
      "india\n",
      "america\n",
      "4\n"
     ]
    }
   ],
   "source": [
    "# Question 10 : Set.add()\n",
    "\n",
    "n = int(input())\n",
    "s = set()\n",
    "for i in range(n):\n",
    "    s.add(input())\n",
    "print(len(s))"
   ]
  },
  {
   "cell_type": "code",
   "execution_count": 87,
   "metadata": {},
   "outputs": [
    {
     "name": "stdout",
     "output_type": "stream",
     "text": [
      "5\n",
      "2 5 8 7 4\n",
      "4\n",
      "pop\n",
      "discard 2\n",
      "remove 5\n",
      "pop\n",
      "15\n"
     ]
    }
   ],
   "source": [
    "# Question 11 : Set .discard(), .remove() & .pop()\n",
    "\n",
    "set_lenth = int(input())\n",
    "s = set(map(int, input().split()))\n",
    "command_length = int(input())\n",
    "for i in range(0, command_length):\n",
    "    command, *x = input().split()\n",
    "    if command == 'pop':\n",
    "        s.pop()\n",
    "    elif command == 'discard':\n",
    "        s.discard(int(*x))\n",
    "    else:\n",
    "        s.remove(int(*x))\n",
    "print(sum(s))"
   ]
  },
  {
   "cell_type": "code",
   "execution_count": 88,
   "metadata": {},
   "outputs": [
    {
     "name": "stdout",
     "output_type": "stream",
     "text": [
      "5\n",
      "2 4 7 8 5\n",
      "4\n",
      "2 5 6 9\n",
      "7\n"
     ]
    }
   ],
   "source": [
    "# Question 12 : Set.union() Operation\n",
    "\n",
    "eng = int(input())\n",
    "english_newspaper = set(map(int, input().split()[:eng]))\n",
    "french = int(input())\n",
    "french_newspaper = set(map(int, input().split()[:french]))\n",
    "print(len(english_newspaper.union(french_newspaper)))"
   ]
  },
  {
   "cell_type": "code",
   "execution_count": 90,
   "metadata": {},
   "outputs": [
    {
     "name": "stdout",
     "output_type": "stream",
     "text": [
      "5\n",
      "2 4 7 8 5\n",
      "4 \n",
      "2 5 6 9\n",
      "2\n"
     ]
    }
   ],
   "source": [
    "# Question 13 : Set.intersection() Operation\n",
    "\n",
    "eng = int(input())\n",
    "english_newspaper = set(map(int, input().split()[:eng]))\n",
    "french = int(input())\n",
    "french_newspaper = set(map(int, input().split()[:french]))\n",
    "print(len(english_newspaper.intersection(french_newspaper)))"
   ]
  },
  {
   "cell_type": "code",
   "execution_count": 91,
   "metadata": {},
   "outputs": [
    {
     "name": "stdout",
     "output_type": "stream",
     "text": [
      "5\n",
      "2 4 7 8 9\n",
      "4\n",
      "2 5 6 9\n",
      "3\n"
     ]
    }
   ],
   "source": [
    "# Question 14 : Set.difference Operation\n",
    "\n",
    "eng = int(input())\n",
    "english_newspaper = set(map(int, input().split()[:eng]))\n",
    "french = int(input())\n",
    "french_newspaper = set(map(int, input().split()[:french]))\n",
    "print(len(english_newspaper.difference(french_newspaper)))"
   ]
  },
  {
   "cell_type": "code",
   "execution_count": 92,
   "metadata": {},
   "outputs": [
    {
     "name": "stdout",
     "output_type": "stream",
     "text": [
      "5\n",
      "2 4 7 8 9\n",
      "4 \n",
      "2 5 6 9\n",
      "5\n"
     ]
    }
   ],
   "source": [
    "# Question 15 : Set.symmetric_difference Operation\n",
    "\n",
    "eng = int(input())\n",
    "english_newspaper = set(map(int, input().split()[:eng]))\n",
    "french = int(input())\n",
    "french_newspaper = set(map(int, input().split()[:french]))\n",
    "print(len(english_newspaper.symmetric_difference(french_newspaper)))"
   ]
  },
  {
   "cell_type": "code",
   "execution_count": 93,
   "metadata": {},
   "outputs": [
    {
     "name": "stdout",
     "output_type": "stream",
     "text": [
      "5\n",
      "1 2 3 4 5\n",
      "3\n",
      "update 3\n",
      "5 6 7\n",
      "symmetric_difference_update 3\n",
      "1 4 8\n",
      "intersection_update 4\n",
      "1 2 4 5\n",
      "7\n"
     ]
    }
   ],
   "source": [
    "# Question 16 : Set Mutations\n",
    "\n",
    "A_length = int(input())\n",
    "A = set(map(int, input().split()[:A_length]))\n",
    "n = int(input())\n",
    "for i in range(0, n):\n",
    "    operation, length = input().split()\n",
    "    x = set(map(int, input().split()[:int(length)]))\n",
    "    if operation == 'intersection_update':\n",
    "        A.intersection_update(x)\n",
    "    elif operation == 'update':\n",
    "        A.update(x)\n",
    "    elif operation == 'symmetric_difference_update':\n",
    "        A.symmetric_difference_update(x)\n",
    "    elif operation == 'difference_update':\n",
    "        A.difference_update(x)\n",
    "print(sum(A))"
   ]
  },
  {
   "cell_type": "code",
   "execution_count": 124,
   "metadata": {},
   "outputs": [
    {
     "name": "stdout",
     "output_type": "stream",
     "text": [
      "3\n",
      "1 1 1 2 2 2 3 3 3 5 4 4 6 6 4 6\n",
      "5\n"
     ]
    }
   ],
   "source": [
    "# Question 17 : The Captain's Room\n",
    "\n",
    "from collections import Counter\n",
    "\n",
    "n = int(input())\n",
    "room_no = list(map(int, input().split()))\n",
    "mylist = Counter(room_no)\n",
    "key = list(mylist.keys())\n",
    "val = list(mylist.values())\n",
    "for i in range(len(key)):\n",
    "    if val[i] == 1:\n",
    "        print(key[i])\n",
    "        break"
   ]
  },
  {
   "cell_type": "code",
   "execution_count": 125,
   "metadata": {},
   "outputs": [
    {
     "name": "stdout",
     "output_type": "stream",
     "text": [
      "1\n",
      "3\n",
      "1 2 3\n",
      "5\n",
      "1 4 2 5 3\n",
      "True\n"
     ]
    }
   ],
   "source": [
    "# Question 18 : Check Subset\n",
    "\n",
    "T = int(input())\n",
    "while T>0:\n",
    "    n1 = int(input())\n",
    "    a = set(map(int, input().split()[:n1]))\n",
    "    n2 = int(input())\n",
    "    b = set(map(int, input().split()[:n2]))\n",
    "    print(a.issubset(b))\n",
    "    \n",
    "    T-=1"
   ]
  },
  {
   "cell_type": "code",
   "execution_count": 145,
   "metadata": {},
   "outputs": [
    {
     "name": "stdout",
     "output_type": "stream",
     "text": [
      "1 2 3 4 5 6\n",
      "3\n",
      "1 2 3\n",
      "4 5 6\n",
      "1 4 5 2 3\n",
      "True\n"
     ]
    }
   ],
   "source": [
    "# Question 19 : Check Strict Superset\n",
    "\n",
    "A = set(map(int, input().split()))\n",
    "n = int(input())\n",
    "flag = 1\n",
    "for i in range(0, n):\n",
    "    x = set(map(int, input().split()))\n",
    "    if((len(A.difference(x))>0) and (len(x.difference(A))==0)):\n",
    "        pass\n",
    "    else:\n",
    "        flag = 0\n",
    "if flag == 0:\n",
    "    print('False')\n",
    "else:\n",
    "    print('True')"
   ]
  },
  {
   "cell_type": "code",
   "execution_count": null,
   "metadata": {},
   "outputs": [],
   "source": []
  }
 ],
 "metadata": {
  "kernelspec": {
   "display_name": "Python 3",
   "language": "python",
   "name": "python3"
  },
  "language_info": {
   "codemirror_mode": {
    "name": "ipython",
    "version": 3
   },
   "file_extension": ".py",
   "mimetype": "text/x-python",
   "name": "python",
   "nbconvert_exporter": "python",
   "pygments_lexer": "ipython3",
   "version": "3.8.3"
  }
 },
 "nbformat": 4,
 "nbformat_minor": 4
}
